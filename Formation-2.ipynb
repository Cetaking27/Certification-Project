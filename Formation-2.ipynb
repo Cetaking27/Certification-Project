{
 "cells": [
  {
   "cell_type": "markdown",
   "metadata": {},
   "source": [
    "## PROGRAMMATION OBJET (PYTHON EST UN LANGUAGE OBJET)\n",
    "1. Classe :\n",
    "            def c'est un plan de conception, genre(ex: Hummain)\n",
    "\n",
    "2. Objet :\n",
    "            c'est une instance de classe (Ex: julien c'est a dire julien est un objet de classe hummain)\n",
    "\n",
    "3. Attribut :\n",
    "                variable de classe (Ex: age, nom, sexe, taille....)\n",
    "\n",
    "4. Propriete : \n",
    "                est un moyen de manipulation des attribut( lecture seule , acces non attribue en dehors de la classe, etc.)\n",
    "\n",
    "5. Methode : \n",
    "                fonctions d'une classe, c'est a dire tout ce qu'elle peut faire( ex: manger , marcher, dormir, parler)\n",
    "\n",
    "6. Methode de classe : \n",
    "                        fonction d'une classe(explication plutard)\n",
    "\n",
    "7. Methode statique :\n",
    "                        fonction d'une classe independante de celle-ci.\n",
    "\n",
    "8. Heritage : \n",
    "                une classe fille qui herite d'une classe Mere.\n",
    "                ex: classe chat herite de la classe animal (chat est une sorte d'animal)\n",
    "\n",
    "# Avantage :\n",
    "1. permet de bien organiser son programme d'une autre manierre;\n",
    "2. permet de rendre le code plus lisible et maintenable\n",
    "# example\n",
    "nom = \"jason\"\n",
    "texte = \"Bienvenu {}\".forma(nom)\n",
    "print(texte)\n",
    "\n"
   ]
  },
  {
   "cell_type": "markdown",
   "metadata": {},
   "source": [
    "##  classes et attributs \n",
    "creations de classe. premier exemple\n",
    " la creation d'attribut se fait avec \" self. \""
   ]
  },
  {
   "cell_type": "code",
   "execution_count": null,
   "metadata": {},
   "outputs": [],
   "source": [
    "#coding:utf-8\n",
    "\n",
    "class Humain:\n",
    "    \"\"\"\n",
    "    class des humains\n",
    "    \"\"\"\n",
    "    def __init__(self):\n",
    "        pass #pour executer on peut utiliseer cet format a la place de \"pass\"\n",
    "                #print(\"creation d'un Humain\")\n",
    "\n",
    "print(\"Lancement du programme...\")\n",
    "h1 = Humain()\n",
    "h2 = Humain()\n",
    "    "
   ]
  },
  {
   "cell_type": "code",
   "execution_count": 14,
   "metadata": {},
   "outputs": [
    {
     "name": "stdout",
     "output_type": "stream",
     "text": [
      "Lancement du programme...\n",
      "creation d'un Humain\n",
      "creation d'un Humain\n"
     ]
    }
   ],
   "source": [
    "#creation de calsse et d'attribut\n",
    "class Humain:\n",
    "    \"\"\"\n",
    "    class des humains\n",
    "    \"\"\"\n",
    "    def __init__(self):\n",
    "        print(\"creation d'un Humain\")\n",
    "        self.prenom = \"Jojo\" #affectation de l'attribut\n",
    "        self.age = 1          #affectation d'attribut 2\n",
    "\n",
    "\n",
    "print(\"Lancement du programme...\")\n",
    "h1 = Humain()\n",
    "h2 = Humain()\n",
    "    "
   ]
  },
  {
   "cell_type": "code",
   "execution_count": 5,
   "metadata": {},
   "outputs": [
    {
     "name": "stdout",
     "output_type": "stream",
     "text": [
      "Lancement du programme...\n",
      "creation d'un Humain\n",
      "Prenom de h1: Jojo\n",
      "Prenom de h1: 34\n",
      "creation d'un Humain\n",
      "Prenom de h2: albert\n",
      "Prenom de h2: 17\n"
     ]
    }
   ],
   "source": [
    "#meme exemple que celui du premier \n",
    "class Humain:\n",
    "    \"\"\"\n",
    "    class des humains\n",
    "    \"\"\"\n",
    "    def __init__(self, c_prenom, c_age):\n",
    "        print(\"creation d'un Humain\")\n",
    "        self.prenom = c_prenom #affectation de l'attribut\n",
    "        self.age = c_age          #affectation d'attribut 2\n",
    "\n",
    "\n",
    "print(\"Lancement du programme...\")\n",
    "h1 = Humain(\"Jojo\", 34)\n",
    "print(\"Prenom de h1: {}\".format(h1.prenom))\n",
    "print(\"Prenom de h1: {}\".format(h1.age))\n",
    "\n",
    "h2 = Humain(\"albert\", 17)\n",
    "print(\"Prenom de h2: {}\".format(h2.prenom))\n",
    "print(\"Prenom de h2: {}\".format(h2.age))\n",
    "\n"
   ]
  },
  {
   "cell_type": "code",
   "execution_count": 6,
   "metadata": {},
   "outputs": [
    {
     "name": "stdout",
     "output_type": "stream",
     "text": [
      "Lancement du programme...\n",
      "creation d'un Humain\n",
      "Humain existants: 1\n",
      "creation d'un Humain\n",
      "Humain existants: 2\n"
     ]
    }
   ],
   "source": [
    "#attribut de classe : un attribut qui appartient a tous les objet de la meme classe\n",
    "#comment l'identifier : on la cree dans l'expression elle meme.\n",
    "class Humain:\n",
    "    \"\"\"\n",
    "    class des humains\n",
    "    \"\"\"\n",
    "\n",
    "    humains_crees = 0 #attribut de classe\n",
    "\n",
    "    def __init__(self, c_prenom, c_age):\n",
    "        print(\"creation d'un Humain\")\n",
    "        self.prenom = c_prenom #affectation de l'attribut\n",
    "        self.age= c_age        #affectation de l'attribut\n",
    "        Humain.humains_crees += 1 #affectation attribut de classe.\n",
    "\n",
    "\n",
    "print(\"Lancement du programme...\")\n",
    "\n",
    "h1 = Humain(\"Jojo\", 34)\n",
    "print(\"Humain existants: {}\".format(Humain.humains_crees))\n",
    "\n",
    "h2 = Humain(\"Albert\", 17)\n",
    "print(\"Humain existants: {}\".format(Humain.humains_crees))"
   ]
  },
  {
   "cell_type": "markdown",
   "metadata": {},
   "source": [
    "## LES METHODES \n",
    "methode : fonction sur une instance(objet)\n",
    "\n",
    "methode de classe : fonction sur une classe \n",
    "\n",
    "Methode statique : fonction independante mais \"lies\" a une classe"
   ]
  },
  {
   "cell_type": "code",
   "execution_count": 27,
   "metadata": {},
   "outputs": [
    {
     "name": "stdout",
     "output_type": "stream",
     "text": [
      "Jason a dit : Bonjour a tous !:)\n",
      "21 ans  : Bonjour a tous !:)\n",
      "Jason a dit : comment allez-vous ?\n",
      "21 ans  : comment allez-vous ?\n"
     ]
    }
   ],
   "source": [
    "#creation d'une methode simple \n",
    "class Humain:\n",
    "    \"\"\"classe qui definit un humain\"\"\"\n",
    "\n",
    "    def __init__(self, nom, age):\n",
    "        self.nom = nom\n",
    "        self.age = age\n",
    "    def parler(self, message):\n",
    "        print(\"{} a dit : {}\".format(self.nom, message))\n",
    "        print(\"{} ans  : {}\".format(self.age, message))\n",
    "      \n",
    "\n",
    "#Programme principal\n",
    "h1 = Humain(\"Jason\", 21)\n",
    "\n",
    "h1.parler(\"Bonjour a tous !:)\")\n",
    "h1.parler(\"comment allez-vous ?\")"
   ]
  },
  {
   "cell_type": "code",
   "execution_count": 10,
   "metadata": {},
   "outputs": [
    {
     "name": "stdout",
     "output_type": "stream",
     "text": [
      "planete actuelle : Terre\n",
      "planete actuelle : Mars\n"
     ]
    }
   ],
   "source": [
    "#methode standard ( qui comporte self comme cles)\n",
    "# methode de classe ( qui comporte cls comme cles)\n",
    "\n",
    "#example de creation de methode de classe \n",
    "class Humain:\n",
    "    \"\"\"classe qui definit un humain\"\"\"\n",
    "\n",
    "    lieu_habitation = \"Terre\"\n",
    "\n",
    "    def __init__(self, nom, age):\n",
    "        self.nom = nom\n",
    "        self.age = age\n",
    "    \n",
    "    def parler(self, message):\n",
    "        print(\"{} a dit : {}\".format(self.nom, message))\n",
    "    \n",
    "    def changer_planete(cls, nouvelle_planette):\n",
    "        Humain.lieu_habitation = nouvelle_planette\n",
    "    \n",
    "    changer_planete = classmethod(changer_planete)\n",
    "\n",
    "#Programme principal\n",
    "h1 = Humain(\"Jason\", 21)\n",
    "print(\"planete actuelle : {}\".format(Humain.lieu_habitation))\n",
    "\n",
    "Humain.changer_planete(\"Mars\")\n",
    "print(\"planete actuelle : {}\".format(Humain.lieu_habitation))\n"
   ]
  },
  {
   "cell_type": "code",
   "execution_count": 1,
   "metadata": {},
   "outputs": [
    {
     "name": "stdout",
     "output_type": "stream",
     "text": [
      "L'Humain est un classe comme etant le plus ghaut etre vivant de la terre\n"
     ]
    }
   ],
   "source": [
    "#methode statique \n",
    "class Humain:\n",
    "    \"\"\"classe qui definit un humain\"\"\"\n",
    "\n",
    "    lieu_habitation = \"Terre\"\n",
    "\n",
    "    def __init__(self, nom, age):\n",
    "        self.nom = nom\n",
    "        self.age = age\n",
    "    \n",
    "    def parler(self, message):\n",
    "        print(\"{} a dit : {}\".format(self.nom, message))\n",
    "    \n",
    "    def changer_planete(cls, nouvelle_planette):\n",
    "        Humain.lieu_habitation = nouvelle_planette\n",
    "    \n",
    "    changer_planete = classmethod(changer_planete)\n",
    "\n",
    "    def definition():\n",
    "        print(\"L'Humain est un classe comme etant le plus ghaut etre vivant de la terre\")\n",
    "\n",
    "    definition = staticmethod(definition)\n",
    "\n",
    "#Programme principal\n",
    "Humain.definition()"
   ]
  },
  {
   "cell_type": "markdown",
   "metadata": {},
   "source": [
    "## les proprietes\n",
    " ce sont des acesseurs qui permettent d'acceder ou lire des attributs \n",
    " elle permettent d'eliminer les erreurs dans les attributs "
   ]
  },
  {
   "cell_type": "code",
   "execution_count": 6,
   "metadata": {},
   "outputs": [
    {
     "name": "stdout",
     "output_type": "stream",
     "text": [
      "Help on property:\n",
      "\n",
      "    je suis l'age d'un humain\n",
      "\n"
     ]
    }
   ],
   "source": [
    "#creation d'une propriete\n",
    "class homme:\n",
    "    def __init__(self, nom, age):\n",
    "        print(\"creation d'un Humain...\")\n",
    "        self.nom = nom\n",
    "        self._age = age\n",
    "\n",
    "    def _getage(self):\n",
    "        try:\n",
    "            return self._age\n",
    "        except AttributeError:\n",
    "            print(\"L'age n'existe pas !\") \n",
    "\n",
    "        \"\"\"\n",
    "        on peut egalement ajouter certains cles qui nous permettrons de miniser les erreurs de codes \n",
    "        en faisant par example \n",
    "        try:\n",
    "            return self._age\n",
    "        except AttributeError:\n",
    "            print(\"L'age n'existe pas !\") \n",
    "        \"\"\"\n",
    "\n",
    "    \n",
    "    def _setage(self, nouvel_age):\n",
    "        #self._age = nouvel_age\n",
    "        if nouvel_age < 0 :\n",
    "            self._age = 0\n",
    "        else:\n",
    "            self._age = nouvel_age\n",
    "        #pour controller notre code on peut egalement ajouter des conditions pour rendre un peut lucide \n",
    "        #comme par exemple:\n",
    "        \"\"\"\n",
    "        if nouvel_age < 0 :\n",
    "            self._age = 0\n",
    "        else:\n",
    "            self._age = nouvel_age\n",
    "        \"\"\"\n",
    "\n",
    "    def _delage(self):\n",
    "        del self._age\n",
    "\n",
    "    #property(<getter>,<setter>,<deleter>,<helper>)\n",
    "    age = property(_getage, _setage, _delage, \"je suis l'age d'un humain\")\n",
    "\n",
    "#programme principal\n",
    "help(homme.age) #pour la propriete helper \n",
    "\n",
    "#h1 = homme(\"jason\", 21)\n",
    "\n",
    "\n",
    "# h1.age = 14 poour la propriete  getter \n",
    "# idem que la get : h1.age = 20  pour la propriete setter\n",
    "# del h1.age #pour la propriete deleter\n",
    "#print(h1.age)\n",
    "\n",
    "\n"
   ]
  },
  {
   "cell_type": "code",
   "execution_count": null,
   "metadata": {},
   "outputs": [],
   "source": []
  },
  {
   "cell_type": "code",
   "execution_count": null,
   "metadata": {},
   "outputs": [],
   "source": []
  }
 ],
 "metadata": {
  "kernelspec": {
   "display_name": "Python 3",
   "language": "python",
   "name": "python3"
  },
  "language_info": {
   "codemirror_mode": {
    "name": "ipython",
    "version": 3
   },
   "file_extension": ".py",
   "mimetype": "text/x-python",
   "name": "python",
   "nbconvert_exporter": "python",
   "pygments_lexer": "ipython3",
   "version": "3.11.0 (main, Oct 24 2022, 18:26:48) [MSC v.1933 64 bit (AMD64)]"
  },
  "orig_nbformat": 4,
  "vscode": {
   "interpreter": {
    "hash": "c261aea317cc0286b3b3261fbba9abdec21eaa57589985bb7a274bf54d6cc0a7"
   }
  }
 },
 "nbformat": 4,
 "nbformat_minor": 2
}
