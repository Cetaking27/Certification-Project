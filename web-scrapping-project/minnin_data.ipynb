{
 "cells": [
  {
   "cell_type": "markdown",
   "id": "733ac5a3",
   "metadata": {},
   "source": [
    "#### <span style=\"font-family:'NEW TIME ROMAN';\"> Web scrapping with python</br>- Project-Guided **FIRST PART** </br></sapn>"
   ]
  },
  {
   "cell_type": "markdown",
   "id": "5da42e63",
   "metadata": {},
   "source": [
    "## <span style=\"font-family:'Times New Roman';\">1- Collecting Data from web\n",
    "</span>"
   ]
  },
  {
   "cell_type": "code",
   "execution_count": 44,
   "id": "37636626",
   "metadata": {},
   "outputs": [],
   "source": [
    "# Use this key to First install the library in python\n",
    "# !pip install xxx selenium "
   ]
  },
  {
   "cell_type": "markdown",
   "id": "110c6272",
   "metadata": {},
   "source": [
    "<span style=\"font-family:'Times New Roman';\"> \n",
    "Before starting here's importants things to verify: make sure that the edge driver we are using are compatible with the broswer.  For that we need to : \n",
    "\n",
    " - [Microsoft Edge WebDriver.]('https://developer.microsoft.com/en-us/microsoft-edge/tools/webdriver/?form=MA13LH#downloads')\n",
    "\n",
    " - We can also verify the compability [About](\"edge://settings/help\")\n",
    "\n",
    " - Install the requires Selenium librairies [here]('https://www.selenium.dev/documentation/webdriver/getting_started/install_library/')\n",
    " </span>\n"
   ]
  },
  {
   "cell_type": "code",
   "execution_count": 105,
   "id": "ce526f44",
   "metadata": {},
   "outputs": [],
   "source": [
    "from selenium import webdriver                                         #allow lauching broswer\n",
    "from selenium.webdriver.common.by import By                         # allows search with parameters\n",
    "from selenium.webdriver.support.ui import WebDriverWait             #allows waiting for page to load \n",
    "from selenium.webdriver.support import expected_conditions as EC   #determine whether the web page has loaded\n",
    "from selenium.common.exceptions import TimeoutException            #handling timeout situation\n",
    "from selenium.webdriver.edge.service import Service              #help to configure and handle the broswer lauching \n",
    "\n",
    "\n",
    "## SEt in up for edge browser \n",
    "\n",
    "driver_option = webdriver.EdgeOptions()\n",
    "driver_option.add_argument(\" -arg\")\n",
    "Edge_path = 'C:/Users/User/Downloads/edgedriver_win64/msedgedriver.exe'\n",
    "def create_webdriver():\n",
    "    service = Service(executable_path=Edge_path)\n",
    "    return webdriver.Edge(service=service, options=driver_option)"
   ]
  },
  {
   "cell_type": "markdown",
   "id": "ddf8204a",
   "metadata": {},
   "source": [
    "### <span style=\"font-family:'Times New Roman'\">2- Extracting the html element we need from thr web pages </span>\n",
    "\n",
    "<span style=\"font-family:'Times New Roman'\">\n",
    "\n",
    "To learn how to extract elements from HTML using Selenium in Python, you can refer directly to the official documentation available here: [Selenium with Python](\"https://selenium-python.readthedocs.io/getting-started.html\")\n",
    "\n",
    "</span>"
   ]
  },
  {
   "cell_type": "code",
   "execution_count": 106,
   "id": "9a5668d7",
   "metadata": {},
   "outputs": [],
   "source": [
    "broswer = create_webdriver()  #open the website \n",
    "broswer.get(\"https://books.toscrape.com/\")"
   ]
  },
  {
   "cell_type": "code",
   "execution_count": 107,
   "id": "10c3fc6a",
   "metadata": {},
   "outputs": [],
   "source": [
    "#Extract all projects\n",
    "\n",
    "Projects = broswer.find_elements(By.XPATH, \"//ol/li[@class='col-xs-6 col-sm-4 col-md-3 col-lg-3']\")\n"
   ]
  },
  {
   "cell_type": "code",
   "execution_count": 108,
   "id": "f367e252",
   "metadata": {},
   "outputs": [],
   "source": [
    "# Extract information for each project\n",
    "Project_list = {}\n",
    "for proj in Projects:\n",
    "    proj_name = proj.find_element(By.XPATH, \".//h3/a\").get_attribute(\"title\")  # nom du livre\n",
    "    proj_url = proj.find_element(By.XPATH, \".//h3/a\").get_attribute(\"href\")    # URL du livre\n",
    "    proj_price = proj.find_element(By.XPATH, \".//div[@class='product_price']/p[@class='price_color']\").text  # prix\n",
    "    Project_list[proj_name] = {\"url\": proj_url, \"price\": proj_price}\n",
    "#Close connection\n",
    "broswer.quit()"
   ]
  },
  {
   "cell_type": "markdown",
   "id": "851d46c2",
   "metadata": {},
   "source": [
    "### <span style=\"font-family:'Times New Roman';\">3- Saving the data to CSV using Pandas</span>"
   ]
  },
  {
   "cell_type": "code",
   "execution_count": 109,
   "id": "83ee62c3",
   "metadata": {},
   "outputs": [
    {
     "data": {
      "text/html": [
       "<div>\n",
       "<style scoped>\n",
       "    .dataframe tbody tr th:only-of-type {\n",
       "        vertical-align: middle;\n",
       "    }\n",
       "\n",
       "    .dataframe tbody tr th {\n",
       "        vertical-align: top;\n",
       "    }\n",
       "\n",
       "    .dataframe thead th {\n",
       "        text-align: right;\n",
       "    }\n",
       "</style>\n",
       "<table border=\"1\" class=\"dataframe\">\n",
       "  <thead>\n",
       "    <tr style=\"text-align: right;\">\n",
       "      <th></th>\n",
       "      <th>url</th>\n",
       "      <th>price</th>\n",
       "    </tr>\n",
       "  </thead>\n",
       "  <tbody>\n",
       "    <tr>\n",
       "      <th>A Light in the Attic</th>\n",
       "      <td>https://books.toscrape.com/catalogue/a-light-i...</td>\n",
       "      <td>£51.77</td>\n",
       "    </tr>\n",
       "    <tr>\n",
       "      <th>Tipping the Velvet</th>\n",
       "      <td>https://books.toscrape.com/catalogue/tipping-t...</td>\n",
       "      <td>£53.74</td>\n",
       "    </tr>\n",
       "    <tr>\n",
       "      <th>Soumission</th>\n",
       "      <td>https://books.toscrape.com/catalogue/soumissio...</td>\n",
       "      <td>£50.10</td>\n",
       "    </tr>\n",
       "    <tr>\n",
       "      <th>Sharp Objects</th>\n",
       "      <td>https://books.toscrape.com/catalogue/sharp-obj...</td>\n",
       "      <td>£47.82</td>\n",
       "    </tr>\n",
       "    <tr>\n",
       "      <th>Sapiens: A Brief History of Humankind</th>\n",
       "      <td>https://books.toscrape.com/catalogue/sapiens-a...</td>\n",
       "      <td>£54.23</td>\n",
       "    </tr>\n",
       "    <tr>\n",
       "      <th>The Requiem Red</th>\n",
       "      <td>https://books.toscrape.com/catalogue/the-requi...</td>\n",
       "      <td>£22.65</td>\n",
       "    </tr>\n",
       "    <tr>\n",
       "      <th>The Dirty Little Secrets of Getting Your Dream Job</th>\n",
       "      <td>https://books.toscrape.com/catalogue/the-dirty...</td>\n",
       "      <td>£33.34</td>\n",
       "    </tr>\n",
       "    <tr>\n",
       "      <th>The Coming Woman: A Novel Based on the Life of the Infamous Feminist, Victoria Woodhull</th>\n",
       "      <td>https://books.toscrape.com/catalogue/the-comin...</td>\n",
       "      <td>£17.93</td>\n",
       "    </tr>\n",
       "    <tr>\n",
       "      <th>The Boys in the Boat: Nine Americans and Their Epic Quest for Gold at the 1936 Berlin Olympics</th>\n",
       "      <td>https://books.toscrape.com/catalogue/the-boys-...</td>\n",
       "      <td>£22.60</td>\n",
       "    </tr>\n",
       "    <tr>\n",
       "      <th>The Black Maria</th>\n",
       "      <td>https://books.toscrape.com/catalogue/the-black...</td>\n",
       "      <td>£52.15</td>\n",
       "    </tr>\n",
       "    <tr>\n",
       "      <th>Starving Hearts (Triangular Trade Trilogy, #1)</th>\n",
       "      <td>https://books.toscrape.com/catalogue/starving-...</td>\n",
       "      <td>£13.99</td>\n",
       "    </tr>\n",
       "    <tr>\n",
       "      <th>Shakespeare's Sonnets</th>\n",
       "      <td>https://books.toscrape.com/catalogue/shakespea...</td>\n",
       "      <td>£20.66</td>\n",
       "    </tr>\n",
       "    <tr>\n",
       "      <th>Set Me Free</th>\n",
       "      <td>https://books.toscrape.com/catalogue/set-me-fr...</td>\n",
       "      <td>£17.46</td>\n",
       "    </tr>\n",
       "    <tr>\n",
       "      <th>Scott Pilgrim's Precious Little Life (Scott Pilgrim #1)</th>\n",
       "      <td>https://books.toscrape.com/catalogue/scott-pil...</td>\n",
       "      <td>£52.29</td>\n",
       "    </tr>\n",
       "    <tr>\n",
       "      <th>Rip it Up and Start Again</th>\n",
       "      <td>https://books.toscrape.com/catalogue/rip-it-up...</td>\n",
       "      <td>£35.02</td>\n",
       "    </tr>\n",
       "    <tr>\n",
       "      <th>Our Band Could Be Your Life: Scenes from the American Indie Underground, 1981-1991</th>\n",
       "      <td>https://books.toscrape.com/catalogue/our-band-...</td>\n",
       "      <td>£57.25</td>\n",
       "    </tr>\n",
       "    <tr>\n",
       "      <th>Olio</th>\n",
       "      <td>https://books.toscrape.com/catalogue/olio_984/...</td>\n",
       "      <td>£23.88</td>\n",
       "    </tr>\n",
       "    <tr>\n",
       "      <th>Mesaerion: The Best Science Fiction Stories 1800-1849</th>\n",
       "      <td>https://books.toscrape.com/catalogue/mesaerion...</td>\n",
       "      <td>£37.59</td>\n",
       "    </tr>\n",
       "    <tr>\n",
       "      <th>Libertarianism for Beginners</th>\n",
       "      <td>https://books.toscrape.com/catalogue/libertari...</td>\n",
       "      <td>£51.33</td>\n",
       "    </tr>\n",
       "    <tr>\n",
       "      <th>It's Only the Himalayas</th>\n",
       "      <td>https://books.toscrape.com/catalogue/its-only-...</td>\n",
       "      <td>£45.17</td>\n",
       "    </tr>\n",
       "  </tbody>\n",
       "</table>\n",
       "</div>"
      ],
      "text/plain": [
       "                                                                                                  url  \\\n",
       "A Light in the Attic                                https://books.toscrape.com/catalogue/a-light-i...   \n",
       "Tipping the Velvet                                  https://books.toscrape.com/catalogue/tipping-t...   \n",
       "Soumission                                          https://books.toscrape.com/catalogue/soumissio...   \n",
       "Sharp Objects                                       https://books.toscrape.com/catalogue/sharp-obj...   \n",
       "Sapiens: A Brief History of Humankind               https://books.toscrape.com/catalogue/sapiens-a...   \n",
       "The Requiem Red                                     https://books.toscrape.com/catalogue/the-requi...   \n",
       "The Dirty Little Secrets of Getting Your Dream Job  https://books.toscrape.com/catalogue/the-dirty...   \n",
       "The Coming Woman: A Novel Based on the Life of ...  https://books.toscrape.com/catalogue/the-comin...   \n",
       "The Boys in the Boat: Nine Americans and Their ...  https://books.toscrape.com/catalogue/the-boys-...   \n",
       "The Black Maria                                     https://books.toscrape.com/catalogue/the-black...   \n",
       "Starving Hearts (Triangular Trade Trilogy, #1)      https://books.toscrape.com/catalogue/starving-...   \n",
       "Shakespeare's Sonnets                               https://books.toscrape.com/catalogue/shakespea...   \n",
       "Set Me Free                                         https://books.toscrape.com/catalogue/set-me-fr...   \n",
       "Scott Pilgrim's Precious Little Life (Scott Pil...  https://books.toscrape.com/catalogue/scott-pil...   \n",
       "Rip it Up and Start Again                           https://books.toscrape.com/catalogue/rip-it-up...   \n",
       "Our Band Could Be Your Life: Scenes from the Am...  https://books.toscrape.com/catalogue/our-band-...   \n",
       "Olio                                                https://books.toscrape.com/catalogue/olio_984/...   \n",
       "Mesaerion: The Best Science Fiction Stories 180...  https://books.toscrape.com/catalogue/mesaerion...   \n",
       "Libertarianism for Beginners                        https://books.toscrape.com/catalogue/libertari...   \n",
       "It's Only the Himalayas                             https://books.toscrape.com/catalogue/its-only-...   \n",
       "\n",
       "                                                     price  \n",
       "A Light in the Attic                                £51.77  \n",
       "Tipping the Velvet                                  £53.74  \n",
       "Soumission                                          £50.10  \n",
       "Sharp Objects                                       £47.82  \n",
       "Sapiens: A Brief History of Humankind               £54.23  \n",
       "The Requiem Red                                     £22.65  \n",
       "The Dirty Little Secrets of Getting Your Dream Job  £33.34  \n",
       "The Coming Woman: A Novel Based on the Life of ...  £17.93  \n",
       "The Boys in the Boat: Nine Americans and Their ...  £22.60  \n",
       "The Black Maria                                     £52.15  \n",
       "Starving Hearts (Triangular Trade Trilogy, #1)      £13.99  \n",
       "Shakespeare's Sonnets                               £20.66  \n",
       "Set Me Free                                         £17.46  \n",
       "Scott Pilgrim's Precious Little Life (Scott Pil...  £52.29  \n",
       "Rip it Up and Start Again                           £35.02  \n",
       "Our Band Could Be Your Life: Scenes from the Am...  £57.25  \n",
       "Olio                                                £23.88  \n",
       "Mesaerion: The Best Science Fiction Stories 180...  £37.59  \n",
       "Libertarianism for Beginners                        £51.33  \n",
       "It's Only the Himalayas                             £45.17  "
      ]
     },
     "execution_count": 109,
     "metadata": {},
     "output_type": "execute_result"
    }
   ],
   "source": [
    "# Extracting data\n",
    "import pandas as pd\n",
    "\n",
    "project_df = pd.DataFrame.from_dict(Project_list, orient='index')\n",
    "project_df"
   ]
  },
  {
   "cell_type": "markdown",
   "id": "fbd938dd",
   "metadata": {},
   "source": [
    "### <span style=\"font-family:'Times New Roman';\">4-Data manipulation</span>"
   ]
  },
  {
   "cell_type": "code",
   "execution_count": 110,
   "id": "7e4ff33e",
   "metadata": {},
   "outputs": [
    {
     "data": {
      "text/html": [
       "<div>\n",
       "<style scoped>\n",
       "    .dataframe tbody tr th:only-of-type {\n",
       "        vertical-align: middle;\n",
       "    }\n",
       "\n",
       "    .dataframe tbody tr th {\n",
       "        vertical-align: top;\n",
       "    }\n",
       "\n",
       "    .dataframe thead th {\n",
       "        text-align: right;\n",
       "    }\n",
       "</style>\n",
       "<table border=\"1\" class=\"dataframe\">\n",
       "  <thead>\n",
       "    <tr style=\"text-align: right;\">\n",
       "      <th></th>\n",
       "      <th>url</th>\n",
       "      <th>price</th>\n",
       "      <th>Project name</th>\n",
       "    </tr>\n",
       "  </thead>\n",
       "  <tbody>\n",
       "    <tr>\n",
       "      <th>0</th>\n",
       "      <td>https://books.toscrape.com/catalogue/a-light-i...</td>\n",
       "      <td>£51.77</td>\n",
       "      <td>A Light in the Attic</td>\n",
       "    </tr>\n",
       "    <tr>\n",
       "      <th>1</th>\n",
       "      <td>https://books.toscrape.com/catalogue/tipping-t...</td>\n",
       "      <td>£53.74</td>\n",
       "      <td>Tipping the Velvet</td>\n",
       "    </tr>\n",
       "    <tr>\n",
       "      <th>2</th>\n",
       "      <td>https://books.toscrape.com/catalogue/soumissio...</td>\n",
       "      <td>£50.10</td>\n",
       "      <td>Soumission</td>\n",
       "    </tr>\n",
       "    <tr>\n",
       "      <th>3</th>\n",
       "      <td>https://books.toscrape.com/catalogue/sharp-obj...</td>\n",
       "      <td>£47.82</td>\n",
       "      <td>Sharp Objects</td>\n",
       "    </tr>\n",
       "    <tr>\n",
       "      <th>4</th>\n",
       "      <td>https://books.toscrape.com/catalogue/sapiens-a...</td>\n",
       "      <td>£54.23</td>\n",
       "      <td>Sapiens: A Brief History of Humankind</td>\n",
       "    </tr>\n",
       "    <tr>\n",
       "      <th>5</th>\n",
       "      <td>https://books.toscrape.com/catalogue/the-requi...</td>\n",
       "      <td>£22.65</td>\n",
       "      <td>The Requiem Red</td>\n",
       "    </tr>\n",
       "    <tr>\n",
       "      <th>6</th>\n",
       "      <td>https://books.toscrape.com/catalogue/the-dirty...</td>\n",
       "      <td>£33.34</td>\n",
       "      <td>The Dirty Little Secrets of Getting Your Dream...</td>\n",
       "    </tr>\n",
       "    <tr>\n",
       "      <th>7</th>\n",
       "      <td>https://books.toscrape.com/catalogue/the-comin...</td>\n",
       "      <td>£17.93</td>\n",
       "      <td>The Coming Woman: A Novel Based on the Life of...</td>\n",
       "    </tr>\n",
       "    <tr>\n",
       "      <th>8</th>\n",
       "      <td>https://books.toscrape.com/catalogue/the-boys-...</td>\n",
       "      <td>£22.60</td>\n",
       "      <td>The Boys in the Boat: Nine Americans and Their...</td>\n",
       "    </tr>\n",
       "    <tr>\n",
       "      <th>9</th>\n",
       "      <td>https://books.toscrape.com/catalogue/the-black...</td>\n",
       "      <td>£52.15</td>\n",
       "      <td>The Black Maria</td>\n",
       "    </tr>\n",
       "    <tr>\n",
       "      <th>10</th>\n",
       "      <td>https://books.toscrape.com/catalogue/starving-...</td>\n",
       "      <td>£13.99</td>\n",
       "      <td>Starving Hearts (Triangular Trade Trilogy, #1)</td>\n",
       "    </tr>\n",
       "    <tr>\n",
       "      <th>11</th>\n",
       "      <td>https://books.toscrape.com/catalogue/shakespea...</td>\n",
       "      <td>£20.66</td>\n",
       "      <td>Shakespeare's Sonnets</td>\n",
       "    </tr>\n",
       "    <tr>\n",
       "      <th>12</th>\n",
       "      <td>https://books.toscrape.com/catalogue/set-me-fr...</td>\n",
       "      <td>£17.46</td>\n",
       "      <td>Set Me Free</td>\n",
       "    </tr>\n",
       "    <tr>\n",
       "      <th>13</th>\n",
       "      <td>https://books.toscrape.com/catalogue/scott-pil...</td>\n",
       "      <td>£52.29</td>\n",
       "      <td>Scott Pilgrim's Precious Little Life (Scott Pi...</td>\n",
       "    </tr>\n",
       "    <tr>\n",
       "      <th>14</th>\n",
       "      <td>https://books.toscrape.com/catalogue/rip-it-up...</td>\n",
       "      <td>£35.02</td>\n",
       "      <td>Rip it Up and Start Again</td>\n",
       "    </tr>\n",
       "    <tr>\n",
       "      <th>15</th>\n",
       "      <td>https://books.toscrape.com/catalogue/our-band-...</td>\n",
       "      <td>£57.25</td>\n",
       "      <td>Our Band Could Be Your Life: Scenes from the A...</td>\n",
       "    </tr>\n",
       "    <tr>\n",
       "      <th>16</th>\n",
       "      <td>https://books.toscrape.com/catalogue/olio_984/...</td>\n",
       "      <td>£23.88</td>\n",
       "      <td>Olio</td>\n",
       "    </tr>\n",
       "    <tr>\n",
       "      <th>17</th>\n",
       "      <td>https://books.toscrape.com/catalogue/mesaerion...</td>\n",
       "      <td>£37.59</td>\n",
       "      <td>Mesaerion: The Best Science Fiction Stories 18...</td>\n",
       "    </tr>\n",
       "    <tr>\n",
       "      <th>18</th>\n",
       "      <td>https://books.toscrape.com/catalogue/libertari...</td>\n",
       "      <td>£51.33</td>\n",
       "      <td>Libertarianism for Beginners</td>\n",
       "    </tr>\n",
       "    <tr>\n",
       "      <th>19</th>\n",
       "      <td>https://books.toscrape.com/catalogue/its-only-...</td>\n",
       "      <td>£45.17</td>\n",
       "      <td>It's Only the Himalayas</td>\n",
       "    </tr>\n",
       "  </tbody>\n",
       "</table>\n",
       "</div>"
      ],
      "text/plain": [
       "                                                  url   price  \\\n",
       "0   https://books.toscrape.com/catalogue/a-light-i...  £51.77   \n",
       "1   https://books.toscrape.com/catalogue/tipping-t...  £53.74   \n",
       "2   https://books.toscrape.com/catalogue/soumissio...  £50.10   \n",
       "3   https://books.toscrape.com/catalogue/sharp-obj...  £47.82   \n",
       "4   https://books.toscrape.com/catalogue/sapiens-a...  £54.23   \n",
       "5   https://books.toscrape.com/catalogue/the-requi...  £22.65   \n",
       "6   https://books.toscrape.com/catalogue/the-dirty...  £33.34   \n",
       "7   https://books.toscrape.com/catalogue/the-comin...  £17.93   \n",
       "8   https://books.toscrape.com/catalogue/the-boys-...  £22.60   \n",
       "9   https://books.toscrape.com/catalogue/the-black...  £52.15   \n",
       "10  https://books.toscrape.com/catalogue/starving-...  £13.99   \n",
       "11  https://books.toscrape.com/catalogue/shakespea...  £20.66   \n",
       "12  https://books.toscrape.com/catalogue/set-me-fr...  £17.46   \n",
       "13  https://books.toscrape.com/catalogue/scott-pil...  £52.29   \n",
       "14  https://books.toscrape.com/catalogue/rip-it-up...  £35.02   \n",
       "15  https://books.toscrape.com/catalogue/our-band-...  £57.25   \n",
       "16  https://books.toscrape.com/catalogue/olio_984/...  £23.88   \n",
       "17  https://books.toscrape.com/catalogue/mesaerion...  £37.59   \n",
       "18  https://books.toscrape.com/catalogue/libertari...  £51.33   \n",
       "19  https://books.toscrape.com/catalogue/its-only-...  £45.17   \n",
       "\n",
       "                                         Project name  \n",
       "0                                A Light in the Attic  \n",
       "1                                  Tipping the Velvet  \n",
       "2                                          Soumission  \n",
       "3                                       Sharp Objects  \n",
       "4               Sapiens: A Brief History of Humankind  \n",
       "5                                     The Requiem Red  \n",
       "6   The Dirty Little Secrets of Getting Your Dream...  \n",
       "7   The Coming Woman: A Novel Based on the Life of...  \n",
       "8   The Boys in the Boat: Nine Americans and Their...  \n",
       "9                                     The Black Maria  \n",
       "10     Starving Hearts (Triangular Trade Trilogy, #1)  \n",
       "11                              Shakespeare's Sonnets  \n",
       "12                                        Set Me Free  \n",
       "13  Scott Pilgrim's Precious Little Life (Scott Pi...  \n",
       "14                          Rip it Up and Start Again  \n",
       "15  Our Band Could Be Your Life: Scenes from the A...  \n",
       "16                                               Olio  \n",
       "17  Mesaerion: The Best Science Fiction Stories 18...  \n",
       "18                       Libertarianism for Beginners  \n",
       "19                            It's Only the Himalayas  "
      ]
     },
     "execution_count": 110,
     "metadata": {},
     "output_type": "execute_result"
    }
   ],
   "source": [
    "\n",
    "project_df['Project Name'] = project_df.index \n",
    "project_df.columns = ['url', 'price', 'Project name']\n",
    "project_df = project_df.reset_index(drop=True)\n",
    "project_df"
   ]
  },
  {
   "cell_type": "code",
   "execution_count": 111,
   "id": "ccb9e00b",
   "metadata": {},
   "outputs": [],
   "source": [
    "# Export project dataframe to CSV\n",
    "project_df.to_csv('project_list.csv')"
   ]
  },
  {
   "cell_type": "code",
   "execution_count": 112,
   "id": "925655c1",
   "metadata": {},
   "outputs": [
    {
     "name": "stdout",
     "output_type": "stream",
     "text": [
      "(20, 3)\n",
      "Index(['url', 'price', 'Project name'], dtype='object')\n",
      "<class 'pandas.core.frame.DataFrame'>\n",
      "RangeIndex: 20 entries, 0 to 19\n",
      "Data columns (total 3 columns):\n",
      " #   Column        Non-Null Count  Dtype \n",
      "---  ------        --------------  ----- \n",
      " 0   url           20 non-null     object\n",
      " 1   price         20 non-null     object\n",
      " 2   Project name  20 non-null     object\n",
      "dtypes: object(3)\n",
      "memory usage: 612.0+ bytes\n",
      "None\n"
     ]
    }
   ],
   "source": [
    "print(project_df.shape)\n",
    "print(project_df.columns)\n",
    "print(project_df.info())"
   ]
  },
  {
   "cell_type": "code",
   "execution_count": 113,
   "id": "9c2ca70a",
   "metadata": {},
   "outputs": [
    {
     "data": {
      "text/html": [
       "<div>\n",
       "<style scoped>\n",
       "    .dataframe tbody tr th:only-of-type {\n",
       "        vertical-align: middle;\n",
       "    }\n",
       "\n",
       "    .dataframe tbody tr th {\n",
       "        vertical-align: top;\n",
       "    }\n",
       "\n",
       "    .dataframe thead th {\n",
       "        text-align: right;\n",
       "    }\n",
       "</style>\n",
       "<table border=\"1\" class=\"dataframe\">\n",
       "  <thead>\n",
       "    <tr style=\"text-align: right;\">\n",
       "      <th></th>\n",
       "      <th>url</th>\n",
       "      <th>price</th>\n",
       "      <th>Project name</th>\n",
       "    </tr>\n",
       "  </thead>\n",
       "  <tbody>\n",
       "    <tr>\n",
       "      <th>0</th>\n",
       "      <td>https://books.toscrape.com/catalogue/a-light-i...</td>\n",
       "      <td>£51.77</td>\n",
       "      <td>A Light in the Attic</td>\n",
       "    </tr>\n",
       "  </tbody>\n",
       "</table>\n",
       "</div>"
      ],
      "text/plain": [
       "                                                 url   price  \\\n",
       "0  https://books.toscrape.com/catalogue/a-light-i...  £51.77   \n",
       "\n",
       "           Project name  \n",
       "0  A Light in the Attic  "
      ]
     },
     "execution_count": 113,
     "metadata": {},
     "output_type": "execute_result"
    }
   ],
   "source": [
    "project_df.head(1)"
   ]
  },
  {
   "cell_type": "code",
   "execution_count": 114,
   "id": "3eb906f5",
   "metadata": {},
   "outputs": [
    {
     "name": "stdout",
     "output_type": "stream",
     "text": [
      "['A Light in the Attic' 'Tipping the Velvet' 'Soumission' 'Sharp Objects'\n",
      " 'Sapiens: A Brief History of Humankind' 'The Requiem Red'\n",
      " 'The Dirty Little Secrets of Getting Your Dream Job'\n",
      " 'The Coming Woman: A Novel Based on the Life of the Infamous Feminist, Victoria Woodhull'\n",
      " 'The Boys in the Boat: Nine Americans and Their Epic Quest for Gold at the 1936 Berlin Olympics'\n",
      " 'The Black Maria' 'Starving Hearts (Triangular Trade Trilogy, #1)'\n",
      " \"Shakespeare's Sonnets\" 'Set Me Free'\n",
      " \"Scott Pilgrim's Precious Little Life (Scott Pilgrim #1)\"\n",
      " 'Rip it Up and Start Again'\n",
      " 'Our Band Could Be Your Life: Scenes from the American Indie Underground, 1981-1991'\n",
      " 'Olio' 'Mesaerion: The Best Science Fiction Stories 1800-1849'\n",
      " 'Libertarianism for Beginners' \"It's Only the Himalayas\"]\n"
     ]
    },
    {
     "data": {
      "text/plain": [
       "<Axes: xlabel='Project name'>"
      ]
     },
     "execution_count": 114,
     "metadata": {},
     "output_type": "execute_result"
    },
    {
     "data": {
      "image/png": "[encoded data removed]",
      "text/plain": [
       "<Figure size 640x480 with 1 Axes>"
      ]
     },
     "metadata": {},
     "output_type": "display_data"
    }
   ],
   "source": [
    "print(project_df['Project name'].unique()) \n",
    "project_df['Project name'].value_counts().plot.bar()"
   ]
  },
  {
   "cell_type": "code",
   "execution_count": 117,
   "id": "c8267700",
   "metadata": {},
   "outputs": [
    {
     "data": {
      "text/plain": [
       "<Axes: ylabel='Frequency'>"
      ]
     },
     "execution_count": 117,
     "metadata": {},
     "output_type": "execute_result"
    },
    {
     "data": {
      "image/png": "[encoded data removed]",
      "text/plain": [
       "<Figure size 640x480 with 1 Axes>"
      ]
     },
     "metadata": {},
     "output_type": "display_data"
    }
   ],
   "source": [
    "project_df.price = project_df.price.str.replace('£', '').astype(float)\n",
    "project_df.price.plot.hist()\n"
   ]
  },
  {
   "cell_type": "code",
   "execution_count": 141,
   "id": "06d1c435",
   "metadata": {},
   "outputs": [
    {
     "name": "stdout",
     "output_type": "stream",
     "text": [
      "The most expensive book is: Our Band Could Be Your Life: Scenes from the American Indie Underground, 1981-1991\n",
      "Its price is: 57.25\n"
     ]
    }
   ],
   "source": [
    "# first convert the price colone in a numerical data\n",
    "project_df['price'] = project_df['price'].replace('£', '').astype(float)\n",
    "\n",
    "# find the expensive books\n",
    "idx_max = project_df['price'].idxmax()\n",
    "\n",
    "# print the name and the price of that book\n",
    "print(\"The most expensive book is:\", project_df.loc[idx_max, 'Project name'])\n",
    "print(\"Its price is:\", project_df.loc[idx_max, 'price'])"
   ]
  },
  {
   "cell_type": "code",
   "execution_count": 134,
   "id": "cc382cda",
   "metadata": {},
   "outputs": [
    {
     "name": "stdout",
     "output_type": "stream",
     "text": [
      "The cheapest book is: Starving Hearts (Triangular Trade Trilogy, #1)\n",
      "Its price is: 13.99\n"
     ]
    }
   ],
   "source": [
    "idx_min = project_df['price'].idxmin(skipna=False)\n",
    "print(\"The cheapest book is:\", project_df.loc[idx_min, 'Project name'])\n",
    "print(\"Its price is:\", project_df.loc[idx_min, 'price'])"
   ]
  },
  {
   "cell_type": "code",
   "execution_count": 139,
   "id": "5aa1a38d",
   "metadata": {},
   "outputs": [
    {
     "name": "stdout",
     "output_type": "stream",
     "text": [
      "the total amount of books in £ in 760.97\n"
     ]
    }
   ],
   "source": [
    "total_amount_of_books = sum(project_df['price'].replace('£', '').astype(float))\n",
    "print('the total amount of books in £ in', total_amount_of_books)"
   ]
  },
  {
   "cell_type": "markdown",
   "id": "37d0889f",
   "metadata": {},
   "source": [
    "### <span style=\"font-family:'Times New Roman';\">5-Speed up web scraping with parallelization</span>"
   ]
  },
  {
   "cell_type": "code",
   "execution_count": 161,
   "id": "9eb9f474",
   "metadata": {},
   "outputs": [
    {
     "name": "stdout",
     "output_type": "stream",
     "text": [
      "[<selenium.webdriver.remote.webelement.WebElement (session=\"51b343977f3f288b3415007ba1b67755\", element=\"f.BF23230E81BC25AD4C1EB10E96D0567C.d.EB9CC2DD781DC94DB79A9E842664EB1C.e.7\")>, <selenium.webdriver.remote.webelement.WebElement (session=\"48e3216dbfda237d182b6962ddffef2d\", element=\"f.3C12A4B8127794A6A82FF5BE1FCE74C4.d.18DB8640FD5E00EEC1654D2EC06B4200.e.2\")>, <selenium.webdriver.remote.webelement.WebElement (session=\"9439daf47ba9e2ddc30094f97e52ee27\", element=\"f.5DC8FEAF483F62B33488B7DFF5253E80.d.1053A23EA75DF4153600A643DC56AC35.e.2\")>]\n"
     ]
    }
   ],
   "source": [
    "from concurrent.futures import ThreadPoolExecutor, as_completed\n",
    "from selenium import webdriver\n",
    "\n",
    "def create_webdriver():\n",
    "    options = webdriver.EdgeOptions()  # or ChromeOptions()\n",
    "    options.add_argument(\"--headless\")  # optional\n",
    "    return webdriver.Edge(options=options)\n",
    "\n",
    "def scrape_url(url):\n",
    "    browser = create_webdriver()\n",
    "    browser.get(url)\n",
    "    data = browser.find_element(By.XPATH, \"//body\")\n",
    "    browser.quit()\n",
    "    return data\n",
    "\n",
    "urlarray = [\n",
    "    'https://quotes.toscrape.com/',\n",
    "    'https://realpython.github.io/fake-jobs/',\n",
    "    'https://www.imdb.com/chart/top/'\n",
    "]\n",
    "\n",
    "results = []\n",
    "with ThreadPoolExecutor(max_workers=3) as executor:\n",
    "    future_results = [executor.submit(scrape_url, url) for url in urlarray]\n",
    "    for future in as_completed(future_results):\n",
    "        results.append(future.result())\n",
    "\n",
    "print(results)\n"
   ]
  }
 ],
 "metadata": {
  "kernelspec": {
   "display_name": "Python 3",
   "language": "python",
   "name": "python3"
  },
  "language_info": {
   "codemirror_mode": {
    "name": "ipython",
    "version": 3
   },
   "file_extension": ".py",
   "mimetype": "text/x-python",
   "name": "python",
   "nbconvert_exporter": "python",
   "pygments_lexer": "ipython3",
   "version": "3.11.9"
  }
 },
 "nbformat": 4,
 "nbformat_minor": 5
}
