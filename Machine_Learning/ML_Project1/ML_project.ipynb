{
 "cells": [
  {
   "cell_type": "code",
   "execution_count": 2,
   "id": "18fb94a0",
   "metadata": {},
   "outputs": [
    {
     "name": "stdout",
     "output_type": "stream",
     "text": [
      "Python: 3.11.9 (tags/v3.11.9:de54cf5, Apr  2 2024, 10:12:12) [MSC v.1938 64 bit (AMD64)]\n",
      "scipy: 1.16.1\n",
      "numpy: 1.26.4\n",
      "matplotlib: 3.7.3\n",
      "pandas: 2.3.1\n",
      "sklearn: 1.7.1\n"
     ]
    }
   ],
   "source": [
    "# Python version\n",
    "import sys\n",
    "print('Python: {}'.format(sys.version))\n",
    "# scipy\n",
    "import scipy\n",
    "print('scipy: {}'.format(scipy.__version__))\n",
    "# numpy\n",
    "import numpy\n",
    "print('numpy: {}'.format(numpy.__version__))\n",
    "# matplotlib\n",
    "import matplotlib\n",
    "print('matplotlib: {}'.format(matplotlib.__version__))\n",
    "# pandas\n",
    "import pandas\n",
    "print('pandas: {}'.format(pandas.__version__))\n",
    "# scikit-learn\n",
    "import sklearn\n",
    "print('sklearn: {}'.format(sklearn.__version__))"
   ]
  },
  {
   "cell_type": "code",
   "execution_count": null,
   "id": "357c9041",
   "metadata": {},
   "outputs": [],
   "source": [
    "import pandas as pd\n",
    "import numpy as np\n",
    "from pandas.plotting import scatter_matrix\n",
    "from matplotlib import pyplot as plt \n",
    "from sklearn.model_selection import train_test_split\n",
    "from "
   ]
  },
  {
   "cell_type": "code",
   "execution_count": 47,
   "id": "677646fd",
   "metadata": {},
   "outputs": [
    {
     "name": "stdout",
     "output_type": "stream",
     "text": [
      "Yay I got my lucky number 1! 🍀\n"
     ]
    }
   ],
   "source": [
    "import random\n",
    "\n",
    "lucky_number = random.randint(1, 9)\n",
    "not_found = True\n",
    "\n",
    "while not_found:\n",
    "  for i in range(1, 10):\n",
    "    if i == lucky_number:\n",
    "      not_found = False\n",
    "      break\n",
    "    else:\n",
    "      print(i)\n",
    "\n",
    "print(f\"Yay I got my lucky number {lucky_number}! 🍀\")"
   ]
  },
  {
   "cell_type": "code",
   "execution_count": null,
   "id": "529a5cfc",
   "metadata": {},
   "outputs": [],
   "source": [
    "grade =  int(input('What is your grade? '))\n",
    "if grade == 9:\n",
    "  print(\"Freshman\")\n",
    "elif grade == 10:\n",
    "  print('Sophomore')\n",
    "elif grade == 11:\n",
    "  print('Junior')\n",
    "elif grade == 12:\n",
    "  print('Senior')\n",
    "else:\n",
    "  print('TBD')"
   ]
  },
  {
   "cell_type": "code",
   "execution_count": 42,
   "id": "f647bf44",
   "metadata": {},
   "outputs": [
    {
     "name": "stdout",
     "output_type": "stream",
     "text": [
      "1\n",
      "2\n",
      "Fizz\n",
      "4\n",
      "BUZZ\n",
      "Fizz\n",
      "7\n",
      "8\n",
      "Fizz\n",
      "BUZZ\n",
      "11\n",
      "Fizz\n",
      "13\n",
      "14\n",
      "FizzBuzz\n",
      "16\n",
      "17\n",
      "Fizz\n",
      "19\n",
      "BUZZ\n",
      "Fizz\n",
      "22\n",
      "23\n",
      "Fizz\n",
      "BUZZ\n",
      "26\n",
      "Fizz\n",
      "28\n",
      "29\n",
      "FizzBuzz\n",
      "31\n",
      "32\n",
      "Fizz\n",
      "34\n",
      "BUZZ\n",
      "Fizz\n",
      "37\n",
      "38\n",
      "Fizz\n",
      "BUZZ\n",
      "41\n",
      "Fizz\n",
      "43\n",
      "44\n",
      "FizzBuzz\n",
      "46\n",
      "47\n",
      "Fizz\n",
      "49\n",
      "BUZZ\n",
      "Fizz\n",
      "52\n",
      "53\n",
      "Fizz\n",
      "BUZZ\n",
      "56\n",
      "Fizz\n",
      "58\n",
      "59\n",
      "FizzBuzz\n",
      "61\n",
      "62\n",
      "Fizz\n",
      "64\n",
      "BUZZ\n",
      "Fizz\n",
      "67\n",
      "68\n",
      "Fizz\n",
      "BUZZ\n",
      "71\n",
      "Fizz\n",
      "73\n",
      "74\n",
      "FizzBuzz\n",
      "76\n",
      "77\n",
      "Fizz\n",
      "79\n",
      "BUZZ\n",
      "Fizz\n",
      "82\n",
      "83\n",
      "Fizz\n",
      "BUZZ\n",
      "86\n",
      "Fizz\n",
      "88\n",
      "89\n",
      "FizzBuzz\n",
      "91\n",
      "92\n",
      "Fizz\n",
      "94\n",
      "BUZZ\n",
      "Fizz\n",
      "97\n",
      "98\n",
      "Fizz\n",
      "BUZZ\n"
     ]
    }
   ],
   "source": [
    "for i in range(101):\n",
    "    while i != 0:\n",
    "        if i % 3 == 0 and i % 5 == 0:\n",
    "            print(\"FizzBuzz\")\n",
    "        elif i % 3 == 0:\n",
    "            print(\"Fizz\")\n",
    "        elif i % 5 == 0:\n",
    "            print('BUZZ') \n",
    "        else:\n",
    "            print(i)\n",
    "        break"
   ]
  },
  {
   "cell_type": "code",
   "execution_count": 49,
   "id": "ef39abf3",
   "metadata": {},
   "outputs": [
    {
     "name": "stdout",
     "output_type": "stream",
     "text": [
      "User's weight is: 89.0\n"
     ]
    }
   ],
   "source": [
    "Weight = float(input('What is Earth weight? '))\n",
    "number = int(input('What is a planet number (1-7)? '))\n",
    "\n",
    "relative_gravity = [0.38, 0.91, 0.38, 2.53, 1.07, 0.89, 1.14]\n",
    "\n",
    "if 1 <= number <= 7:\n",
    "    destination_weight = Weight * relative_gravity[number - 1]\n",
    "    print(\"User's weight is:\", destination_weight)\n",
    "else:\n",
    "    print(\"Invalid planet number\")"
   ]
  },
  {
   "cell_type": "code",
   "execution_count": 51,
   "id": "72c92aed",
   "metadata": {},
   "outputs": [
    {
     "name": "stdout",
     "output_type": "stream",
     "text": [
      "User's weight is: 38.0\n"
     ]
    }
   ],
   "source": [
    "Weight = float(input('What is Earth weight? '))\n",
    "number = int(input('What is a planet number? '))\n",
    "\n",
    "relative_gravity = [0.38, 0.91, 0.38, 2.53, 1.07, 0.89, 1.14]\n",
    "\n",
    "for i in range(len(relative_gravity)):\n",
    "    if number == i + 1:\n",
    "        destination_weight = Weight * relative_gravity[i]\n",
    "        print(\"User's weight is:\", destination_weight)\n",
    "        break\n",
    "else:\n",
    "    print(\"Invalid planet number\")"
   ]
  }
 ],
 "metadata": {
  "kernelspec": {
   "display_name": "Python 3",
   "language": "python",
   "name": "python3"
  },
  "language_info": {
   "codemirror_mode": {
    "name": "ipython",
    "version": 3
   },
   "file_extension": ".py",
   "mimetype": "text/x-python",
   "name": "python",
   "nbconvert_exporter": "python",
   "pygments_lexer": "ipython3",
   "version": "3.11.9"
  }
 },
 "nbformat": 4,
 "nbformat_minor": 5
}
