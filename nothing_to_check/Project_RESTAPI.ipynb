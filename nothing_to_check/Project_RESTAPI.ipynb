{
 "cells": [
  {
   "cell_type": "markdown",
   "metadata": {},
   "source": [
    "# **Python REST APIs With Flask, Connexion, and SQLAlchemy**\n",
    "\n",
    "## Project \n",
    " - Build a base Flask project with a REST API\n",
    " - Handle HTTP requests with Connexion\n",
    " - Define API endpoints using the OpenAPI specification\n",
    " - Interact with your API to manage data\n",
    " - Build API documentation with Swagger UI"
   ]
  },
  {
   "cell_type": "markdown",
   "metadata": {},
   "source": [
    "## CREATING THE VIRTUAL ENVIRONNEMENT FOR OUR PROJECT \n",
    "\n",
    "# mdir rp_flask_api\n",
    "# cd rp_flask_api"
   ]
  },
  {
   "cell_type": "code",
   "execution_count": null,
   "metadata": {},
   "outputs": [],
   "source": [
    "## CREATING THE VIRTUAL ENVIRONNEMENT FOR OUR PROJECT \n",
    "\n",
    "# mdir rp_flask_api\n",
    "# cd rp_flask_api"
   ]
  }
 ],
 "metadata": {
  "kernelspec": {
   "display_name": "Python 3",
   "language": "python",
   "name": "python3"
  },
  "language_info": {
   "name": "python",
   "version": "3.11.9"
  }
 },
 "nbformat": 4,
 "nbformat_minor": 2
}
