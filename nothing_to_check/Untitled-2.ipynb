{
 "cells": [
  {
   "cell_type": "code",
   "execution_count": 7,
   "metadata": {},
   "outputs": [
    {
     "name": "stdout",
     "output_type": "stream",
     "text": [
      "Result: \"yezijma\"\n"
     ]
    }
   ],
   "source": [
    "#coding: utf-8\n",
    "import numpy as np \n",
    "alpha = ' abcdefghijklmnopqrstuvwxyz'\n",
    "n = int(input())\n",
    "s = input().strip()\n",
    "res = ''\n",
    "for c in s:\n",
    "    res += alpha[(alpha.index(c) + n) % len(alpha)]\n",
    "print('Result: \"' + res + '\"')"
   ]
  }
 ],
 "metadata": {
  "kernelspec": {
   "display_name": "Python 3.10.4 64-bit",
   "language": "python",
   "name": "python3"
  },
  "language_info": {
   "codemirror_mode": {
    "name": "ipython",
    "version": 3
   },
   "file_extension": ".py",
   "mimetype": "text/x-python",
   "name": "python",
   "nbconvert_exporter": "python",
   "pygments_lexer": "ipython3",
   "version": "3.10.4"
  },
  "orig_nbformat": 4,
  "vscode": {
   "interpreter": {
    "hash": "2827edc8de4ae171bec65c374726ae243f96315e84b75219c37e8bf010f3a566"
   }
  }
 },
 "nbformat": 4,
 "nbformat_minor": 2
}
