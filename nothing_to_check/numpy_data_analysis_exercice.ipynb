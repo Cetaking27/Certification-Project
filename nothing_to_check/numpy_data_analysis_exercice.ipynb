{
 "cells": [
  {
   "cell_type": "code",
   "execution_count": 1,
   "metadata": {},
   "outputs": [],
   "source": [
    "import numpy as np\n",
    "import pandas as pd"
   ]
  },
  {
   "attachments": {},
   "cell_type": "markdown",
   "metadata": {},
   "source": [
    "# suite des exercice numpy"
   ]
  },
  {
   "cell_type": "code",
   "execution_count": 13,
   "metadata": {},
   "outputs": [
    {
     "data": {
      "text/plain": [
       "array([[8, 7, 9],\n",
       "       [6, 5, 8],\n",
       "       [5, 7, 5],\n",
       "       [6, 7, 8],\n",
       "       [7, 7, 7]])"
      ]
     },
     "execution_count": 13,
     "metadata": {},
     "output_type": "execute_result"
    }
   ],
   "source": [
    "#exo:20. How to create a 2D array containing random floats between 5 and 10?\n",
    "ar = np.random.randint(5,10, size=(5,3))+np.random.random((5,3))\n",
    "ar \n",
    "\n",
    "'''\n",
    "ar = np.random.uniform(5,10, size=(5,3))\n",
    "'''"
   ]
  },
  {
   "cell_type": "code",
   "execution_count": 24,
   "metadata": {},
   "outputs": [
    {
     "data": {
      "text/plain": [
       "array([[0.248, 0.889, 0.16 ],\n",
       "       [0.262, 0.367, 0.369],\n",
       "       [0.969, 0.186, 0.412],\n",
       "       [0.864, 0.863, 0.558],\n",
       "       [0.46 , 0.749, 0.314]])"
      ]
     },
     "execution_count": 24,
     "metadata": {},
     "output_type": "execute_result"
    }
   ],
   "source": [
    "#exo 21:How to print only 3 decimal places in python numpy array?\n",
    "rand_arr=np.random.random([5,3])\n",
    "np.set_printoptions(precision=3)\n",
    "rand_arr[:4]\n",
    "rand_arr\n",
    "'''\n",
    "rand_arr = np.random.random([5,3])\n",
    "np.round(rand_arr,3)\n",
    "'''"
   ]
  },
  {
   "cell_type": "code",
   "execution_count": 34,
   "metadata": {},
   "outputs": [
    {
     "data": {
      "text/plain": [
       "array([[0.00054, 0.00028, 0.00042],\n",
       "       [0.00084, 0.     , 0.00012],\n",
       "       [0.00067, 0.00083, 0.00014]])"
      ]
     },
     "execution_count": 34,
     "metadata": {},
     "output_type": "execute_result"
    }
   ],
   "source": [
    "#exos 22:Q. Pretty print rand_arr by suppressing the scientific notation (like 1e10)\n",
    "np.random.seed(100)\n",
    "rand_arr = np.random.random([3,3])/1e3\n",
    "rand_arr[np.set_printoptions(suppress=True, precision=5)]\n",
    "rand_arr"
   ]
  },
  {
   "cell_type": "code",
   "execution_count": 35,
   "metadata": {},
   "outputs": [
    {
     "data": {
      "text/plain": [
       "array([[ 0,  1,  2, ..., 12, 13, 14]])"
      ]
     },
     "execution_count": 35,
     "metadata": {},
     "output_type": "execute_result"
    }
   ],
   "source": [
    "#exos:23:Limit the number of items printed in python numpy array a to a maximum of 6 elements.\n",
    "a = np.arange(15)\n",
    "a[np.set_printoptions(threshold=3)]"
   ]
  },
  {
   "cell_type": "code",
   "execution_count": 49,
   "metadata": {},
   "outputs": [],
   "source": [
    "#exos24: Q. Print the full numpy array a without truncating.\n",
    "a[np.set_printoptions(threshold=6)]\n",
    "a =np.arange(15)\n",
    "a[np.set_printoptions(threshold=np.nan)]\n"
   ]
  },
  {
   "cell_type": "code",
   "execution_count": 56,
   "metadata": {},
   "outputs": [
    {
     "data": {
      "text/plain": [
       "array([[b'5.1', b'3.5', b'1.4', b'0.2', b'Iris-setosa'],\n",
       "       [b'4.9', b'3.0', b'1.4', b'0.2', b'Iris-setosa'],\n",
       "       [b'4.7', b'3.2', b'1.3', b'0.2', b'Iris-setosa']], dtype=object)"
      ]
     },
     "execution_count": 56,
     "metadata": {},
     "output_type": "execute_result"
    }
   ],
   "source": [
    "#exos25:Import the iris dataset keeping the text intact.\n",
    "url = 'https://archive.ics.uci.edu/ml/machine-learning-databases/iris/iris.data'\n",
    "iris = np.genfromtxt(url, delimiter=',', dtype='object')\n",
    "names = ('sepallength', 'sepalwidth', 'petallength', 'petalwidth', 'species')\n",
    "iris[:3]"
   ]
  },
  {
   "cell_type": "code",
   "execution_count": 60,
   "metadata": {},
   "outputs": [
    {
     "data": {
      "text/plain": [
       "array([b'Iris-setosa', b'Iris-setosa', b'Iris-setosa', b'Iris-setosa',\n",
       "       b'Iris-setosa'], dtype='|S15')"
      ]
     },
     "execution_count": 60,
     "metadata": {},
     "output_type": "execute_result"
    }
   ],
   "source": [
    "#exos: Extract the text column species from the 1D iris imported in previous question.\n",
    "species = np.array([row[4] for row in iris])\n",
    "species[:5]"
   ]
  },
  {
   "cell_type": "code",
   "execution_count": 68,
   "metadata": {},
   "outputs": [
    {
     "data": {
      "text/plain": [
       "array([[5.1, 3.5, 1.4, 0.2],\n",
       "       [4.9, 3. , 1.4, 0.2],\n",
       "       [4.7, 3.2, 1.3, 0.2],\n",
       "       [4.6, 3.1, 1.5, 0.2]])"
      ]
     },
     "execution_count": 68,
     "metadata": {},
     "output_type": "execute_result"
    }
   ],
   "source": [
    "#exos;27 Convert the 1D iris to 2D array iris_2d by omitting the species text field.\n",
    "iris_2d = np.genfromtxt(url, delimiter=',', dtype='float', usecols=[0,1,2,3])\n",
    "iris_2d[:4]\n",
    "'''\n",
    "iris_2d = np.array([row.tolist()[:4] for row in iris])\n",
    "iris[:4]\n",
    "'''"
   ]
  },
  {
   "cell_type": "code",
   "execution_count": 84,
   "metadata": {},
   "outputs": [
    {
     "data": {
      "text/plain": [
       "(5.843333333333334, 5.8, 0.8253012917851409)"
      ]
     },
     "execution_count": 84,
     "metadata": {},
     "output_type": "execute_result"
    }
   ],
   "source": [
    "#exos28: Find the mean, median, standard deviation of iris's sepallength (1st column)\n",
    "url = 'https://archive.ics.uci.edu/ml/machine-learning-databases/iris/iris.data'\n",
    "iris = np.genfromtxt(url, delimiter=',', dtype='object')\n",
    "sepallength = np.array([row[0] for row in iris] , dtype=float)\n",
    "mu, med, sd = np.mean(sepallength), np.median(sepallength),np.std(sepallength)\n",
    "mu, med, sd"
   ]
  },
  {
   "cell_type": "code",
   "execution_count": 92,
   "metadata": {},
   "outputs": [
    {
     "name": "stdout",
     "output_type": "stream",
     "text": [
      "[[0.22222 0.16667 0.11111 0.08333 0.19444 0.30556 0.08333 0.19444 0.02778\n",
      "  0.16667 0.30556 0.13889 0.13889 0.      0.41667 0.38889 0.30556 0.22222\n",
      "  0.38889 0.22222 0.30556 0.22222 0.08333 0.22222 0.13889 0.19444 0.19444\n",
      "  0.25    0.25    0.11111 0.13889 0.30556 0.25    0.33333 0.16667 0.19444\n",
      "  0.33333 0.16667 0.02778 0.22222 0.19444 0.05556 0.02778 0.19444 0.22222\n",
      "  0.13889 0.22222 0.08333 0.27778 0.19444 0.75    0.58333 0.72222 0.33333\n",
      "  0.61111 0.38889 0.55556 0.16667 0.63889 0.25    0.19444 0.44444 0.47222\n",
      "  0.5     0.36111 0.66667 0.36111 0.41667 0.52778 0.36111 0.44444 0.5\n",
      "  0.55556 0.5     0.58333 0.63889 0.69444 0.66667 0.47222 0.38889 0.33333\n",
      "  0.33333 0.41667 0.47222 0.30556 0.47222 0.66667 0.55556 0.36111 0.33333\n",
      "  0.33333 0.5     0.41667 0.19444 0.36111 0.38889 0.38889 0.52778 0.22222\n",
      "  0.38889 0.55556 0.41667 0.77778 0.55556 0.61111 0.91667 0.16667 0.83333\n",
      "  0.66667 0.80556 0.61111 0.58333 0.69444 0.38889 0.41667 0.58333 0.61111\n",
      "  0.94444 0.94444 0.47222 0.72222 0.36111 0.94444 0.55556 0.66667 0.80556\n",
      "  0.52778 0.5     0.58333 0.80556 0.86111 1.      0.58333 0.55556 0.5\n",
      "  0.94444 0.55556 0.58333 0.47222 0.72222 0.66667 0.72222 0.41667 0.69444\n",
      "  0.66667 0.66667 0.55556 0.61111 0.52778 0.44444]]\n"
     ]
    }
   ],
   "source": [
    "#exo29\n",
    "import sys\n",
    "'''Create a normalized form of iris's sepallength whose values range \n",
    "exactly between 0 and 1 so that the minimum has value 0 and maximum has value 1.\n",
    "'''\n",
    "url = 'https://archive.ics.uci.edu/ml/machine-learning-databases/iris/iris.data'\n",
    "sepallength = np.genfromtxt(url, delimiter=',', dtype='float', usecols=[0])\n",
    "smax, smin = sepallength.max(), sepallength.min()\n",
    "S = (sepallength - smin)/(smax - smin)\n",
    "print(S[np.set_printoptions(threshold=sys.maxsize)])\n",
    "\n",
    "'''\n",
    "S = (sepallength - Smin)/sepallength.ptp()  # Thanks, David Ojeda!\n",
    "print(S)\n",
    "\n",
    "'''"
   ]
  },
  {
   "cell_type": "code",
   "execution_count": 94,
   "metadata": {},
   "outputs": [
    {
     "name": "stdout",
     "output_type": "stream",
     "text": [
      "[0.00222 0.00182 0.00149 0.00135 0.00201 0.003   0.00135 0.00201 0.0011\n",
      " 0.00182 0.003   0.00164 0.00164 0.001   0.00447 0.00404 0.003   0.00222\n",
      " 0.00404 0.00222 0.003   0.00222 0.00135 0.00222 0.00164 0.00201 0.00201\n",
      " 0.00245 0.00245 0.00149 0.00164 0.003   0.00245 0.00331 0.00182 0.00201\n",
      " 0.00331 0.00182 0.0011  0.00222 0.00201 0.00122 0.0011  0.00201 0.00222\n",
      " 0.00164 0.00222 0.00135 0.00271 0.00201 0.01484 0.00814 0.01343 0.00331\n",
      " 0.009   0.00404 0.00737 0.00182 0.00995 0.00245 0.00201 0.00494 0.00546\n",
      " 0.00603 0.00366 0.01099 0.00366 0.00447 0.00667 0.00366 0.00494 0.00603\n",
      " 0.00737 0.00603 0.00814 0.00995 0.01215 0.01099 0.00546 0.00404 0.00331\n",
      " 0.00331 0.00447 0.00546 0.003   0.00546 0.01099 0.00737 0.00366 0.00331\n",
      " 0.00331 0.00603 0.00447 0.00201 0.00366 0.00404 0.00404 0.00667 0.00222\n",
      " 0.00404 0.00737 0.00447 0.0164  0.00737 0.009   0.02704 0.00182 0.02003\n",
      " 0.01099 0.01813 0.009   0.00814 0.01215 0.00404 0.00447 0.00814 0.009\n",
      " 0.02988 0.02988 0.00546 0.01343 0.00366 0.02988 0.00737 0.01099 0.01813\n",
      " 0.00667 0.00603 0.00814 0.01813 0.02214 0.0365  0.00814 0.00737 0.00603\n",
      " 0.02988 0.00737 0.00814 0.00546 0.01343 0.01099 0.01343 0.00447 0.01215\n",
      " 0.01099 0.01099 0.00737 0.009   0.00667 0.00494]\n"
     ]
    }
   ],
   "source": [
    "#exos30:Compute the softmax score of sepallength.\n",
    "def softmax(x):\n",
    "    '''Compute softmax values for each sets of scores in x'''\n",
    "    e_x = np.exp(x - np.max(x))\n",
    "    return e_x / e_x.sum()\n",
    "scores = sepallength\n",
    "print(softmax(sepallength))"
   ]
  },
  {
   "cell_type": "code",
   "execution_count": 96,
   "metadata": {},
   "outputs": [
    {
     "data": {
      "text/plain": [
       "(4.6, 7.254999999999998)"
      ]
     },
     "execution_count": 96,
     "metadata": {},
     "output_type": "execute_result"
    }
   ],
   "source": [
    "#exo31 : Find the 5th and 95th percentile of iris's sepallength\n",
    "np.percentile(sepallength,5), np.percentile(sepallength,95)\n"
   ]
  },
  {
   "cell_type": "code",
   "execution_count": null,
   "metadata": {},
   "outputs": [],
   "source": []
  }
 ],
 "metadata": {
  "kernelspec": {
   "display_name": "Python 3",
   "language": "python",
   "name": "python3"
  },
  "language_info": {
   "codemirror_mode": {
    "name": "ipython",
    "version": 3
   },
   "file_extension": ".py",
   "mimetype": "text/x-python",
   "name": "python",
   "nbconvert_exporter": "python",
   "pygments_lexer": "ipython3",
   "version": "3.11.0"
  },
  "orig_nbformat": 4,
  "vscode": {
   "interpreter": {
    "hash": "c261aea317cc0286b3b3261fbba9abdec21eaa57589985bb7a274bf54d6cc0a7"
   }
  }
 },
 "nbformat": 4,
 "nbformat_minor": 2
}
