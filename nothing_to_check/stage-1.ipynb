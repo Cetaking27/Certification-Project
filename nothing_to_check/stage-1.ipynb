{
 "cells": [
  {
   "cell_type": "markdown",
   "metadata": {},
   "source": [
    "# Stage lecture 1\n"
   ]
  },
  {
   "cell_type": "markdown",
   "metadata": {},
   "source": [
    "<img src= \"stage-lecture.png\" alt = \"stage-lecture\"/>\n"
   ]
  },
  {
   "cell_type": "markdown",
   "metadata": {},
   "source": [
    "https://university.ylab.site/python/data-types/"
   ]
  },
  {
   "cell_type": "code",
   "execution_count": 2,
   "metadata": {},
   "outputs": [
    {
     "data": {
      "text/plain": [
       "'Простая строка'"
      ]
     },
     "execution_count": 2,
     "metadata": {},
     "output_type": "execute_result"
    }
   ],
   "source": [
    "s1: str = \"Простая строка\"\n",
    "s2: str = '''многострочная строка'''\n"
   ]
  },
  {
   "cell_type": "code",
   "execution_count": 3,
   "metadata": {},
   "outputs": [
    {
     "name": "stdout",
     "output_type": "stream",
     "text": [
      "a = {1, 2, 3}\n"
     ]
    }
   ],
   "source": [
    "a: set = {1,2,2,3,3,3}\n",
    "print(\"a =\", a)\n",
    "# a = {1, 2, 3}\n"
   ]
  },
  {
   "cell_type": "code",
   "execution_count": 6,
   "metadata": {},
   "outputs": [
    {
     "name": "stdout",
     "output_type": "stream",
     "text": [
      "Боюсь! Вы слишком старый\n"
     ]
    }
   ],
   "source": [
    "my_age: int = 70\n",
    "if my_age < 18:\n",
    "    print('Ты ещё не взрослый')\n",
    "elif 17 < my_age < 60:\n",
    "    print('Добро пожаловать в наш клуб :)')\n",
    "else:\n",
    "    print('Боюсь! Вы слишком старый')\n"
   ]
  },
  {
   "cell_type": "code",
   "execution_count": 11,
   "metadata": {},
   "outputs": [
    {
     "name": "stdout",
     "output_type": "stream",
     "text": [
      "Взрослая\n"
     ]
    }
   ],
   "source": [
    "my_age: int = 55\n",
    "my_gender: str = 'female'\n",
    "if my_age >= 18 and my_gender == 'male':\n",
    "    print('Взрослый')\n",
    "elif my_age >= 18 and my_gender == 'female':\n",
    "    print('Взрослая')\n",
    "else:\n",
    "    print('В каком роде к вам обращаться?')\n"
   ]
  },
  {
   "cell_type": "code",
   "execution_count": 19,
   "metadata": {},
   "outputs": [
    {
     "data": {
      "text/plain": [
       "8"
      ]
     },
     "execution_count": 19,
     "metadata": {},
     "output_type": "execute_result"
    }
   ],
   "source": [
    "x=3\n",
    "y=5\n",
    "def add(x, y):\n",
    "    return x + y\n",
    "add(x,y)\n"
   ]
  },
  {
   "cell_type": "code",
   "execution_count": 20,
   "metadata": {},
   "outputs": [
    {
     "data": {
      "text/plain": [
       "300"
      ]
     },
     "execution_count": 20,
     "metadata": {},
     "output_type": "execute_result"
    }
   ],
   "source": [
    "def newfunc(n):\n",
    "    def myfunc(x):\n",
    "        return x + n\n",
    "    return myfunc\n",
    "new = newfunc(100)  # new - это функция\n",
    "new(200)\n",
    "# 300\n"
   ]
  },
  {
   "cell_type": "markdown",
   "metadata": {},
   "source": [
    "# Решение задачи "
   ]
  },
  {
   "cell_type": "markdown",
   "metadata": {},
   "source": [
    "задачи 1"
   ]
  },
  {
   "cell_type": "code",
   "execution_count": 21,
   "metadata": {},
   "outputs": [],
   "source": [
    "import re"
   ]
  },
  {
   "cell_type": "code",
   "execution_count": 32,
   "metadata": {},
   "outputs": [
    {
     "data": {
      "text/plain": [
       "'google'"
      ]
     },
     "execution_count": 32,
     "metadata": {},
     "output_type": "execute_result"
    }
   ],
   "source": [
    "def domain_name(url):\n",
    "    if re.search(r\"^(?:https?:\\/\\/)?(?:[^@\\/\\n]+@)?(?:www\\.)?([^:\\/\\.]+)\", url):\n",
    "        domain = re.findall(r\"^(?:https?:\\/\\/)?(?:[^@\\/\\n]+@)?(?:www\\.)?([^:\\/\\.]+)\", url)\n",
    "        dom = \"\".join(domain)\n",
    "        return dom\n",
    "domain_name(\"http://google.com\")\n",
    "\n"
   ]
  },
  {
   "cell_type": "markdown",
   "metadata": {},
   "source": [
    "задача 2"
   ]
  },
  {
   "cell_type": "code",
   "execution_count": null,
   "metadata": {},
   "outputs": [],
   "source": [
    "def int32_to_ip(int32):\n",
    "    \n",
    "  return\n"
   ]
  }
 ],
 "metadata": {
  "interpreter": {
   "hash": "2827edc8de4ae171bec65c374726ae243f96315e84b75219c37e8bf010f3a566"
  },
  "kernelspec": {
   "display_name": "Python 3.10.4 64-bit",
   "language": "python",
   "name": "python3"
  },
  "language_info": {
   "codemirror_mode": {
    "name": "ipython",
    "version": 3
   },
   "file_extension": ".py",
   "mimetype": "text/x-python",
   "name": "python",
   "nbconvert_exporter": "python",
   "pygments_lexer": "ipython3",
   "version": "3.10.4"
  },
  "orig_nbformat": 4
 },
 "nbformat": 4,
 "nbformat_minor": 2
}
