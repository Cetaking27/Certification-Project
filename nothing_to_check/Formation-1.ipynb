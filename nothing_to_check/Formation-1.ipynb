{
 "cells": [
  {
   "cell_type": "markdown",
   "metadata": {},
   "source": [
    "## FIRST CODE IN PYTHON \n",
    "# Introduction"
   ]
  },
  {
   "cell_type": "code",
   "execution_count": 2,
   "metadata": {},
   "outputs": [],
   "source": [
    "#coding:utf-8\n",
    "import numpy as np "
   ]
  },
  {
   "cell_type": "markdown",
   "metadata": {},
   "source": [
    "1- fonction << print(\" \") >>  qui permet d'afficher \n",
    "ou encore print('haba') \n",
    "\n",
    "pour eviter une asrtuce avec les appostrof << print ('l'\\envers du decor') >>\n",
    "2- pour des commentaires:\n",
    "nous utilisoons<< # >>\n",
    "\n",
    "3- comment passer a la ligne : (\" \\n \") pour passer a la ligne de la phrase.\n",
    "\n",
    "4- pour faire des tabulations : (\" \\t \") pour former les tabulations "
   ]
  },
  {
   "cell_type": "code",
   "execution_count": 7,
   "metadata": {},
   "outputs": [
    {
     "name": "stdout",
     "output_type": "stream",
     "text": [
      "haba\n",
      "l'envers su decors\n",
      "la mangue est un fruit.\n",
      " le maguier est un arbre \n",
      "\t manger de la mangue \n"
     ]
    }
   ],
   "source": [
    "print(\"haba\")\n",
    "print ('l\\'envers su decors')\n",
    "# la fonction print nous permet de d'afficher le text\n",
    "# le sgne est utilise pour mettre des commentaires \n",
    "print(\"la mangue est un fruit.\\n le maguier est un arbre \")\n",
    "print(\"\\t manger de la mangue \")"
   ]
  },
  {
   "cell_type": "markdown",
   "metadata": {},
   "source": [
    "# Variables sur python"
   ]
  },
  {
   "cell_type": "markdown",
   "metadata": {},
   "source": [
    "les variables servent au stockage des donnees. \n",
    "Particularites:\n",
    "Nommmer une variables : doit commencer par une lettre\n",
    "                        ne pas contenir de caratere speciaux\n",
    "                        ne pas contenir d'espaces\n",
    "                        utiliser des underscores ( _ )\n",
    "\n",
    "\n",
    "Types de donnees (standards) :\n",
    "                                entier numeriques (int)\n",
    "\n",
    "                                nombre flottant (float)\n",
    "\n",
    "                                chaine de caracteres (str)\n",
    "\n",
    "                                boolean (bool)\n",
    "\n",
    "                                autres (listes, dictionnaires, tuples, etc...)\n",
    "                                \n",
    "                                str.format() -> formater une chaine\n",
    "\n",
    "                                int(), float(), bool(), -> \"caster\" une donnee, la conver \n",
    "\n",
    "\n",
    "nouvelle fontion : << Input >> qui permet dinserer le resultat d'une fontion\n",
    "                    input () -> lire au clavier "
   ]
  },
  {
   "cell_type": "code",
   "execution_count": 21,
   "metadata": {},
   "outputs": [
    {
     "name": "stdout",
     "output_type": "stream",
     "text": [
      "<class 'int'>\n",
      "<class 'str'>\n",
      "<class 'float'>\n",
      "<class 'bool'>\n",
      "14\n",
      "250\n",
      "120.56\n",
      "True\n",
      "age de la personne =  14 .\n",
      "l'age de la personne est 14 et il mesure 120.56cm.\n",
      "l'age de la personne est 14 et il mesure 120.56cm.\n"
     ]
    }
   ],
   "source": [
    "# exemple d'ecriture d'une  variable\n",
    "agePersonne = 14 # => entier et peut servir pour les calculs (int)\n",
    "age_Personne = \"250\" # => texte et ne peut  servir pour les calculs (str)\n",
    "Age_Personne = 120.56 # => float \n",
    "_AgePersonne  = True # => bool\n",
    "\n",
    "print(type(agePersonne))\n",
    "print(type(age_Personne))\n",
    "print(type(Age_Personne))\n",
    "print(type(_AgePersonne))\n",
    "\n",
    "#affichage de la valeur des variables\n",
    "print(agePersonne)\n",
    "print(age_Personne)\n",
    "print(Age_Personne)\n",
    "print(_AgePersonne)\n",
    "\n",
    "#affichage de texte un peu particulier\n",
    "\n",
    "print(\"age de la personne = \", agePersonne, \".\")\n",
    "\n",
    "texte = \"l'age de la personne est {} et il mesure {}cm.\"\n",
    "print(texte.format(agePersonne, Age_Personne))\n",
    "\n",
    "# ou encore cette autre methode \n",
    "print(\"l'age de la personne est {} et il mesure {}cm.\".format(agePersonne, Age_Personne))\n"
   ]
  },
  {
   "cell_type": "code",
   "execution_count": 31,
   "metadata": {},
   "outputs": [
    {
     "name": "stdout",
     "output_type": "stream",
     "text": [
      "Souhaitons la bienvenue a  charles \n"
     ]
    }
   ],
   "source": [
    "# Input qui permet d'entree une valeur \n",
    "\n",
    "nomJoueur = input(\"nom du joueur \")\n",
    "print(\"Souhaitons la bienvenue a \", nomJoueur)"
   ]
  },
  {
   "cell_type": "code",
   "execution_count": 30,
   "metadata": {},
   "outputs": [
    {
     "name": "stdout",
     "output_type": "stream",
     "text": [
      "le nombre de fruits : 29\n"
     ]
    }
   ],
   "source": [
    "# la fonction input affiche tout element en str :exmple : input(4) =  \"4\" -> texte\n",
    "# la fonction input permet d'afficher les element en str et donc pour utiliser les\n",
    "# input il faut les convertir sous cette forme \n",
    "nombremangue = input(\"le nombre de fruits\")\n",
    "nombremangue = int(nombremangue)\n",
    "NombreOrange = 15\n",
    "NombreFruits = NombreOrange + nombremangue\n",
    "print(\"le nombre de fruits :\", NombreFruits)"
   ]
  },
  {
   "cell_type": "markdown",
   "metadata": {},
   "source": [
    "# OPERATIONS SUR PYTHON\n",
    "\n",
    "les differents types d'operations :\n",
    "                                     + additons \n",
    "\n",
    "                                    - soustraction\n",
    "\n",
    "                                    * multiplication\n",
    "\n",
    "                                    / division\n",
    "                                    \n",
    "                                    % modulo ou pourcentage -> reste de la division euclidienne "
   ]
  },
  {
   "cell_type": "code",
   "execution_count": 35,
   "metadata": {},
   "outputs": [
    {
     "name": "stdout",
     "output_type": "stream",
     "text": [
      "resultat =  2\n",
      "resultat =  2.5\n",
      "resultat =  20\n"
     ]
    }
   ],
   "source": [
    "calcul = 5 / 2\n",
    "calcul = int(calcul)\n",
    "\n",
    "operation = 5 / 2 \n",
    "operation = float(operation)\n",
    "\n",
    "calculer = (5+5)*2\n",
    "\n",
    "\n",
    "print(\"resultat = \", calcul)\n",
    "print(\"resultat = \" , operation)\n",
    "print(\"resultat = \" , calculer)"
   ]
  },
  {
   "cell_type": "markdown",
   "metadata": {},
   "source": [
    "# Conditions sur Python \n",
    "commnent effectuer des texte sur les codes ?\n",
    "\n",
    "comment faire des calculs sous conditions ?\n",
    "\n",
    "operateurs de comparaisons pour les conditions : == egals a \n",
    "\n",
    "                                                != different de \n",
    "\n",
    "                                                < inferieur a \n",
    "\n",
    "                                                > superieur a \n",
    "\n",
    "                                                <= superieur ou egal a\n",
    "\n",
    "                                                >= inferieur ou egal a \n",
    "                                                \n",
    "mot cles de la conditions : if / elif / else\n",
    "\n",
    "conditions multiples : and qui signifie  ET\n",
    "\n",
    "                        or qui signifie OU \n",
    "                        \n",
    "                        in / not qui signifie DANS ou PAS DANS \n",
    "                        \n",
    "les differents types pour faires une conditions: if \n",
    "                                                "
   ]
  },
  {
   "cell_type": "code",
   "execution_count": 37,
   "metadata": {},
   "outputs": [
    {
     "name": "stdout",
     "output_type": "stream",
     "text": [
      "Interface de connexion\n",
      "vous etes connectes, Bienvenu Javier\n",
      " je ne suis plus dans le 'if' \n"
     ]
    }
   ],
   "source": [
    "#example \n",
    "identifiant = \"Javier\"\n",
    "mot_de_passe = \"password123\"\n",
    "print(\"Interface de connexion\")\n",
    "\n",
    "user_id = input(\"votre identifiant:\")\n",
    "user_password = input(\"votre de mot de passe:\")\n",
    "\n",
    "if user_id == identifiant and user_password == mot_de_passe:\n",
    "    print(\"vous etes connectes, Bienvenu\", user_id)\n",
    "    \n",
    "print(\" je ne suis plus dans le 'if' \")"
   ]
  },
  {
   "cell_type": "code",
   "execution_count": 77,
   "metadata": {},
   "outputs": [
    {
     "name": "stdout",
     "output_type": "stream",
     "text": [
      "c'est une consonne\n",
      "c'est une voyelle \n",
      "c'est une consonne\n"
     ]
    }
   ],
   "source": [
    "lettre_hasard = \"B\"\n",
    "if lettre_hasard  in \"aBeipuy\":\n",
    "    print(\"c'est une consonne\")\n",
    "\n",
    "if lettre_hasard not in \"aeipuy\":\n",
    "    print(\"c'est une voyelle \")\n",
    "\n",
    "# ou encore une boucle plus complete\n",
    "\n",
    "lettre_alphabet = \"t\"\n",
    "if lettre_alphabet in \"aoeury\":\n",
    "    print(\"c'est une voyelle\")\n",
    "else:\n",
    "    print(\"c'est une consonne\")"
   ]
  },
  {
   "cell_type": "code",
   "execution_count": 81,
   "metadata": {},
   "outputs": [
    {
     "name": "stdout",
     "output_type": "stream",
     "text": [
      "tu as : 24\n"
     ]
    }
   ],
   "source": [
    "age = 24 \n",
    "if age == 18:\n",
    "    print(\"tu viens d'etre majeur\")\n",
    "elif age == 50:\n",
    "    print(\"tu viens d'avoir 50 ans \")\n",
    "elif age == 60:\n",
    "    print(\"tu viens d'avoir 60 ans \")\n",
    "else:\n",
    "    print(\"tu as :\", age )"
   ]
  },
  {
   "cell_type": "code",
   "execution_count": 84,
   "metadata": {},
   "outputs": [
    {
     "name": "stdout",
     "output_type": "stream",
     "text": [
      "le jeu est en marche\n",
      "le jeu est eteint\n"
     ]
    }
   ],
   "source": [
    "#example plus pratique avec les booleans \n",
    "jeu_charge = True # True=vrai (= 1)\n",
    "\n",
    "if jeu_charge:\n",
    "    print(\"le jeu est en marche\")\n",
    "else:\n",
    "    print(\"le jeu a ete quitte\")\n",
    "\n",
    "#inverse de ce example \n",
    "jeu_t = False # True = vrai (= 1 )\n",
    "\n",
    "if not jeu_t:\n",
    "    print(\"le jeu est eteint\")\n",
    "else:\n",
    "    print(\"le jeu est lance \")"
   ]
  },
  {
   "cell_type": "code",
   "execution_count": 86,
   "metadata": {},
   "outputs": [
    {
     "name": "stdout",
     "output_type": "stream",
     "text": [
      "l'age est incorrect\n"
     ]
    }
   ],
   "source": [
    "age = input(\"Quels age as-tu ?\")\n",
    "age = int(age)\n",
    "\n",
    "if age > 0 and age <= 100: # ou encore plus simplement 0 < age <= 100:\n",
    "    print(\"l'age est correct\")\n",
    "else:\n",
    "    print(\"l'age est incorrect\")"
   ]
  },
  {
   "cell_type": "markdown",
   "metadata": {},
   "source": [
    "## Boucles \n",
    "comment effectuer les boucles ? et a quuoi cela sert ?\n",
    "les boucles permettent de repetter de facons plus restreint sans pour autant repteterles meme choses .\n",
    "le mots :\n",
    "\n",
    "\"\"\" WHILLE \"\"\"\n",
    "\n",
    "les boucles sont souvent utilise popur les jeux videos , ou les ecrans d'affichages.\n",
    "\n",
    "pour les boucles en python en raccourcies: \"\"\"  i = i + 1 \"\"\"\n",
    " Boucles : while / for \n",
    " Mots-cles : break(casse la boucle) / continue(revient au debut de la boucle)"
   ]
  },
  {
   "cell_type": "code",
   "execution_count": 5,
   "metadata": {},
   "outputs": [
    {
     "name": "stdout",
     "output_type": "stream",
     "text": [
      "je suis une phrase\n",
      "je suis une phrase\n",
      "je suis une phrase\n",
      "je suis une phrase\n",
      "je suis une phrase\n",
      "je suis une phrase\n",
      "je suis une phrase\n",
      "je suis une phrase\n",
      "je suis une phrase\n",
      "je suis sorti de la boucle\n"
     ]
    }
   ],
   "source": [
    "compteur = 1 \n",
    "while compteur < 10:\n",
    "    print(\"je suis une phrase\")\n",
    "    compteur += 1 \n",
    "print(\"je suis sorti de la boucle\")"
   ]
  },
  {
   "cell_type": "code",
   "execution_count": 7,
   "metadata": {},
   "outputs": [
    {
     "name": "stdout",
     "output_type": "stream",
     "text": [
      "Bonjour:) !\n",
      "a bientot \n"
     ]
    }
   ],
   "source": [
    "jeu_lance = True \n",
    "while jeu_lance:\n",
    "    #Fais ds intructions en rapport avec le jeu\n",
    "    choixMenu = input(\"> \")\n",
    "    if choixMenu == \"again\":\n",
    "        continue\n",
    "    elif choixMenu == \"quit\":\n",
    "        jeu_lance = False\n",
    "    elif choixMenu == \"hello\":\n",
    "        print(\"Bonjour:) !\")\n",
    "    else:\n",
    "        print(\"commande introuvable\")\n",
    "\n",
    "print(\"a bientot \")"
   ]
  },
  {
   "cell_type": "markdown",
   "metadata": {},
   "source": [
    "example de la boucle :\"\" for \"\"\""
   ]
  },
  {
   "cell_type": "code",
   "execution_count": 8,
   "metadata": {},
   "outputs": [
    {
     "name": "stdout",
     "output_type": "stream",
     "text": [
      "B\n",
      "o\n",
      "n\n",
      "j\n",
      "o\n",
      "u\n",
      "r\n",
      " \n",
      "t\n",
      "o\n",
      "u\n",
      "t\n",
      " \n",
      "l\n",
      "e\n",
      " \n",
      "m\n",
      "o\n",
      "n\n",
      "d\n",
      "e\n",
      " \n",
      "A bientot \n"
     ]
    }
   ],
   "source": [
    "sentence = \"Bonjour tout le monde \"\n",
    "for letter in sentence:\n",
    "    print(letter)\n",
    "print(\"A bientot \")\n"
   ]
  },
  {
   "cell_type": "markdown",
   "metadata": {},
   "source": [
    "## les Fonctions\n",
    "\n",
    " Par definition : ce sont des boites qui prennent certains parametre pour produire un resultat( les algorithmes). elle fait un traitement.\n",
    "\n",
    "les fonctions sont en python et se represente sur cette facon:\n",
    "print (), input(), types(), float(), bool(), str(), int(),format()."
   ]
  },
  {
   "cell_type": "code",
   "execution_count": 9,
   "metadata": {},
   "outputs": [
    {
     "name": "stdout",
     "output_type": "stream",
     "text": [
      "Bonjour tout le monde !\n"
     ]
    }
   ],
   "source": [
    "##comment creer une fonction \n",
    "def dire_bonjour():\n",
    "    print(\"Bonjour tout le monde !\")\n",
    "# je ne suis plus dans la fonction\n",
    "dire_bonjour()"
   ]
  },
  {
   "cell_type": "code",
   "execution_count": 10,
   "metadata": {},
   "outputs": [
    {
     "name": "stdout",
     "output_type": "stream",
     "text": [
      "Jason : BOjour a tous \n",
      "Tom : Salut !\n"
     ]
    }
   ],
   "source": [
    "## comment faire des fonction avec des parametres \n",
    "def dire(nom_personne, message_personne):\n",
    "    print(\"{} : {}\".format(nom_personne, message_personne))\n",
    "dire(\"Jason\", \"BOjour a tous \")\n",
    "dire(\"Tom\",\"Salut !\")"
   ]
  },
  {
   "cell_type": "code",
   "execution_count": 12,
   "metadata": {},
   "outputs": [
    {
     "name": "stdout",
     "output_type": "stream",
     "text": [
      "Yo !  (25 ans): Roger\n"
     ]
    }
   ],
   "source": [
    "# il est possible parfois de preciser le nombre de \n",
    "# parametre par defaut lors de la definitions de la fonction\n",
    "def dire(nom_personne=\"Tom\", message_personne= \"Salut!\", age_personne = 18):\n",
    "    print(\"{}  ({} ans): {}\".format(nom_personne, message_personne, age_personne))\n",
    "dire(\"Yo !\", 25,\"Roger\")\n",
    " \n",
    "# on peut egalement preciser l'ordre des element \n",
    "# dire( message_personne=\"Yo !\",age_personne=25,nom_personne=\"Roger\")"
   ]
  },
  {
   "cell_type": "code",
   "execution_count": 14,
   "metadata": {},
   "outputs": [
    {
     "name": "stdout",
     "output_type": "stream",
     "text": [
      "epee\n",
      "epee\n",
      "arc\n",
      "potion\n",
      "capede dragon rouge\n"
     ]
    }
   ],
   "source": [
    "def show_inventory(*list_items): #qui permet demettre un multiple de parametre a cause \"*\"\n",
    "    for item in list_items:\n",
    "        print(item)\n",
    "\n",
    "show_inventory(\"epee\")\n",
    "show_inventory(\"epee\", \"arc\",\"potion\",\"capede dragon rouge\")"
   ]
  },
  {
   "cell_type": "code",
   "execution_count": 20,
   "metadata": {},
   "outputs": [
    {
     "name": "stdout",
     "output_type": "stream",
     "text": [
      "21\n",
      "Egalite !\n"
     ]
    }
   ],
   "source": [
    "# comment faire une fonction qui retourne une valeur ou une donnee \n",
    "def calculer_somme( nombre1, nombre2):\n",
    "    resultat = nombre1 + nombre2\n",
    "    return resultat\n",
    "print(calculer_somme(5,16))\n",
    "\n",
    "#on peut aussi l'ecrire plus simplement : \n",
    "#def calculer_somme( nombre1, nombre2):\n",
    "# return  nombre1 + nombre2\n",
    "\n",
    "def le_plus_grand(nombre1, nombre2):\n",
    "    if nombre1 > nombre2 :\n",
    "        return nombre1\n",
    "    elif nombre1 < nombre2:\n",
    "        return nombre2\n",
    "    else:\n",
    "        return \"Egalite !\"\n",
    "print(le_plus_grand(230,230))"
   ]
  },
  {
   "cell_type": "markdown",
   "metadata": {},
   "source": [
    "# les fonctions lambda\n",
    "elle permet de faire une instruction et egalement peut prendre les parametres"
   ]
  },
  {
   "cell_type": "code",
   "execution_count": 24,
   "metadata": {},
   "outputs": [
    {
     "name": "stdout",
     "output_type": "stream",
     "text": [
      "bonjour\n",
      "28.8\n",
      "70\n"
     ]
    }
   ],
   "source": [
    "#comment definir une fonc lambda : (lambda :) = def \n",
    "coucou = lambda: print(\"bonjour\")\n",
    "coucou()\n",
    "# autres exemple \n",
    "\n",
    "ttc = lambda prixHT: prixHT + (prixHT * 20 / 100)\n",
    "print(ttc(24))\n",
    "\n",
    "#exemple \n",
    "calculer = lambda a, b: a + b\n",
    "print(calculer(14,56)) "
   ]
  },
  {
   "cell_type": "markdown",
   "metadata": {},
   "source": [
    "# les modules ou bibliotheques \n",
    "pour les calculs basiques \n",
    " import math \n",
    "\n",
    " numpy \n",
    "\n",
    " matplotlib\n",
    "\n",
    " yango\n",
    "\n",
    " scipy\n",
    " \n",
    " simpy \n",
    "\n",
    "Pour creer son propres modules il suffit de creer un fichier a part dans le dossier d'enregistrement et ensuite utuliser les infos du module avec ## import ## ou ## from ##\n",
    "\n",
    "Pour verifier la bonne activiter ou tester notre programme \n",
    "on utilise \n",
    "\n",
    "\n",
    "\n"
   ]
  },
  {
   "cell_type": "code",
   "execution_count": 26,
   "metadata": {},
   "outputs": [
    {
     "name": "stdout",
     "output_type": "stream",
     "text": [
      "10.0\n"
     ]
    }
   ],
   "source": [
    "from math import *\n",
    "resultats = sqrt(100) # resultats = math.sqrt(100)\n",
    "print(resultats)"
   ]
  },
  {
   "cell_type": "code",
   "execution_count": null,
   "metadata": {},
   "outputs": [],
   "source": [
    "#Pour verifier la bonne activitee de notre module ou tester notre programme on utilise \n",
    "\n",
    "if __name__ == \"__main__\":\n",
    "    nom du programme(\"\")\n",
    "#cette technique permet de verifier si effectivement le programme fonctionne correctement"
   ]
  },
  {
   "cell_type": "markdown",
   "metadata": {},
   "source": [
    "# GEstion des erreurs \n",
    "comment gerer les erreurs ? comment eviter \n",
    "\n",
    "pour amelioerer les caste : \n",
    " try :\n",
    " except:\n",
    " else: \n",
    " finally:  -> executer dans tous les cas de figures \n",
    "\n",
    " types d'error ou exceptions:\n",
    "                                ValueError\n",
    "\n",
    "                                NameError\n",
    "\n",
    "                                OSerror\n",
    "\n",
    "                                assertionError\n",
    "                                \n",
    "                                typeError\n",
    "\n",
    "comment faire une lever d'exception :\n",
    "                                        raise\n",
    "\n",
    "comment gerer les assertions ?\n"
   ]
  },
  {
   "cell_type": "code",
   "execution_count": 29,
   "metadata": {},
   "outputs": [
    {
     "name": "stdout",
     "output_type": "stream",
     "text": [
      "tu as  15 ans\n"
     ]
    }
   ],
   "source": [
    "ageUtilisateurs = input(\"Quels ages as-tu ?\")\n",
    "ageUtilisateurs = int(ageUtilisateurs)\n",
    "print(\"tu as \",ageUtilisateurs,\"ans\")\n"
   ]
  },
  {
   "cell_type": "code",
   "execution_count": 32,
   "metadata": {},
   "outputs": [
    {
     "name": "stdout",
     "output_type": "stream",
     "text": [
      "l'age indique est incorrect !\n",
      "FIN DU PROGRAMME \n"
     ]
    }
   ],
   "source": [
    "#pour eviter que l'utilisateur note une str au lieu de int il faut \n",
    "\n",
    "ageUtilisateurs = input(\"Quels ages as-tu ?\")\n",
    "\n",
    "try:\n",
    "    ageUtilisateurs = int(ageUtilisateurs)\n",
    "    print(\"tu as \",ageUtilisateurs,\"ans\")\n",
    "except:\n",
    "    print(\"l'age indique est incorrect !\")\n",
    "else:\n",
    "    print(\"Tu as\", ageUtilisateurs, \"ans\")\n",
    "finally:\n",
    "    print(\"FIN DU PROGRAMME \")"
   ]
  },
  {
   "cell_type": "code",
   "execution_count": 42,
   "metadata": {},
   "outputs": [
    {
     "name": "stdout",
     "output_type": "stream",
     "text": [
      "vous ne pouvez pas diviser par zero.\n"
     ]
    }
   ],
   "source": [
    "# example \n",
    "nomb = 150\n",
    "nomb2 = input(\"choisir le nombre pour diviser:\")\n",
    "try:\n",
    "    nomb2 = int(nomb2)\n",
    "    print(\"resultats ={}\".format(nomb/nomb2))\n",
    "except ZeroDivisionError:\n",
    "    print(\"vous ne pouvez pas diviser par zero.\")\n",
    "except ValueError:\n",
    "    print(\"Vous devez entrer un nombre\")\n",
    "except:\n",
    "    print(\"Valeur incorrect !\")\n",
    "else:\n",
    "    print(\"Bravo, tu as note un nombre valide !\")\n",
    "finally:\n",
    "    print(\"FIN DU PROGRAMME \")"
   ]
  },
  {
   "cell_type": "code",
   "execution_count": 43,
   "metadata": {},
   "outputs": [
    {
     "name": "stdout",
     "output_type": "stream",
     "text": [
      "j'ai attrape ton exception unitile \n"
     ]
    }
   ],
   "source": [
    "# pour lever une exception\n",
    "try:\n",
    "    age = input(\"Quel age as-tu ?\")\n",
    "    age = int(age)\n",
    "    if age < 25 :\n",
    "        raise ZeroDivisionError(\"coucou:) !\") # raise permet de creer son propre types d'Exception\n",
    "except ZeroDivisionError:\n",
    "    print(\"j'ai attrape ton exception unitile \")\n"
   ]
  },
  {
   "cell_type": "code",
   "execution_count": 47,
   "metadata": {},
   "outputs": [],
   "source": [
    "# comment gerer les assertionERROr \n",
    "try:\n",
    "    age = input(\"Quel age as-tu ?\")\n",
    "    age = int(age)\n",
    "    assert age > 25 #je veux que age soit plus grand que 25 sinon leve une assertionError\n",
    "except AssertionError:\n",
    "    print(\"je leve l'Exception\")"
   ]
  },
  {
   "cell_type": "code",
   "execution_count": null,
   "metadata": {},
   "outputs": [],
   "source": [
    "X = []\n",
    "for i in range(len(X)):\n",
    "    0 < i <= pow(10,5)\n",
    "    while 10 <= N <= 2500:\n",
    "        N = sum(X[i])\n",
    "    print(N)\n",
    "\n"
   ]
  },
  {
   "cell_type": "code",
   "execution_count": 49,
   "metadata": {},
   "outputs": [
    {
     "data": {
      "text/plain": [
       "4"
      ]
     },
     "execution_count": 49,
     "metadata": {},
     "output_type": "execute_result"
    }
   ],
   "source": [
    "X = [10, 20, 5, 15, 5, 5, 6, 3, 9 , 8]"
   ]
  },
  {
   "cell_type": "code",
   "execution_count": 1,
   "metadata": {},
   "outputs": [
    {
     "name": "stdout",
     "output_type": "stream",
     "text": [
      "18\n",
      "8.0\n",
      "HackerRank 41\n"
     ]
    }
   ],
   "source": [
    "i = 4\n",
    "d = 4.0\n",
    "s = 'HackerRank '\n",
    "# Declare second integer, double, and String variables.\n",
    "H = 12\n",
    "L = 4\n",
    "N = 'is the best place to learn and practice coding!'\n",
    "# Read and save an integer, double, and String to your variables.\n",
    "H = int(input())\n",
    "L = float(input(L))\n",
    "N = str(input())\n",
    "# Print the sum of both integer variables on a new line.\n",
    "print(i + H)\n",
    "# Print the sum of the double variables on a new line.\n",
    "print(L + d)\n",
    "# Concatenate and print the String variables on a new line\n",
    "print(s+N)\n",
    "# The 's' variable above should be printed first."
   ]
  },
  {
   "cell_type": "code",
   "execution_count": 14,
   "metadata": {},
   "outputs": [
    {
     "name": "stdout",
     "output_type": "stream",
     "text": [
      "3.2857142857142856\n",
      "3.0\n",
      "2.0\n"
     ]
    }
   ],
   "source": [
    "import statistics\n",
    "\n",
    "N = int(input())\n",
    "X = [1,2,3,4,2,5,6]\n",
    "X  = list(map(float, X)) # deuxieme methode X  = list(map(float, input().split()))\n",
    "X.sort()\n",
    "print(statistics.mean(X))\n",
    "print(statistics.median(X))\n",
    "print(statistics.mode(X))"
   ]
  },
  {
   "cell_type": "code",
   "execution_count": 23,
   "metadata": {},
   "outputs": [
    {
     "data": {
      "text/plain": [
       "[]"
      ]
     },
     "execution_count": 23,
     "metadata": {},
     "output_type": "execute_result"
    }
   ],
   "source": [
    "X = []\n",
    "W = []\n",
    "n = int(input())\n",
    "while len(X) and len(W) == n:\n",
    "    X.append(0)\n",
    "    W.append(0)\n",
    "X \n",
    "W"
   ]
  }
 ],
 "metadata": {
  "kernelspec": {
   "display_name": "Python 3",
   "language": "python",
   "name": "python3"
  },
  "language_info": {
   "codemirror_mode": {
    "name": "ipython",
    "version": 3
   },
   "file_extension": ".py",
   "mimetype": "text/x-python",
   "name": "python",
   "nbconvert_exporter": "python",
   "pygments_lexer": "ipython3",
   "version": "3.11.0"
  },
  "orig_nbformat": 4,
  "vscode": {
   "interpreter": {
    "hash": "c261aea317cc0286b3b3261fbba9abdec21eaa57589985bb7a274bf54d6cc0a7"
   }
  }
 },
 "nbformat": 4,
 "nbformat_minor": 2
}
