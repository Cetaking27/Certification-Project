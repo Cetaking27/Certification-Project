{
 "cells": [
  {
   "attachments": {},
   "cell_type": "markdown",
   "metadata": {},
   "source": [
    "# basic commanrd using in text file:\n"
   ]
  },
  {
   "cell_type": "code",
   "execution_count": 2,
   "metadata": {},
   "outputs": [
    {
     "ename": "SyntaxError",
     "evalue": "invalid syntax (4121128823.py, line 15)",
     "output_type": "error",
     "traceback": [
      "\u001b[1;36m  Cell \u001b[1;32mIn [2], line 15\u001b[1;36m\u001b[0m\n\u001b[1;33m    if line startswith('From:'):\u001b[0m\n\u001b[1;37m            ^\u001b[0m\n\u001b[1;31mSyntaxError\u001b[0m\u001b[1;31m:\u001b[0m invalid syntax\n"
     ]
    }
   ],
   "source": [
    "#coding:utf-8\n",
    "\n",
    "import texttable \n",
    "import string\n",
    "\n",
    "'''\n",
    "using for -----> for the loop\n",
    "using rstrip() -----> to find the \n",
    "doing the loop with continue ----> skip to the next iteration of the code \n",
    "\n",
    "'''\n",
    "\n",
    "fhan = open('text.txt')\n",
    "for line in fhan:\n",
    "    if line startswith('From:'):\n",
    "        print(line)"
   ]
  },
  {
   "attachments": {},
   "cell_type": "markdown",
   "metadata": {},
   "source": [
    "# python list in data strutures\n",
    "solving problem according :\n",
    "\n",
    "operation with loop:\n",
    " \n",
    " insert \n",
    "  push\n",
    "   append\n",
    "   new \n",
    "   count-----> look for some value in the list  :: list.count()\n",
    "   extend --> extend the value of the list::: list.exteng()\n",
    "   index ---> look things up in the list\n",
    "   pop  ----> pull up thing of the top \n",
    "   sort ----> put them sort of into based on the values ::; list.sort() (met en ordre)\n",
    "   "
   ]
  },
  {
   "cell_type": "code",
   "execution_count": 3,
   "metadata": {},
   "outputs": [
    {
     "data": {
      "text/plain": [
       "['__add__',\n",
       " '__class__',\n",
       " '__class_getitem__',\n",
       " '__contains__',\n",
       " '__delattr__',\n",
       " '__delitem__',\n",
       " '__dir__',\n",
       " '__doc__',\n",
       " '__eq__',\n",
       " '__format__',\n",
       " '__ge__',\n",
       " '__getattribute__',\n",
       " '__getitem__',\n",
       " '__getstate__',\n",
       " '__gt__',\n",
       " '__hash__',\n",
       " '__iadd__',\n",
       " '__imul__',\n",
       " '__init__',\n",
       " '__init_subclass__',\n",
       " '__iter__',\n",
       " '__le__',\n",
       " '__len__',\n",
       " '__lt__',\n",
       " '__mul__',\n",
       " '__ne__',\n",
       " '__new__',\n",
       " '__reduce__',\n",
       " '__reduce_ex__',\n",
       " '__repr__',\n",
       " '__reversed__',\n",
       " '__rmul__',\n",
       " '__setattr__',\n",
       " '__setitem__',\n",
       " '__sizeof__',\n",
       " '__str__',\n",
       " '__subclasshook__',\n",
       " 'append',\n",
       " 'clear',\n",
       " 'copy',\n",
       " 'count',\n",
       " 'extend',\n",
       " 'index',\n",
       " 'insert',\n",
       " 'pop',\n",
       " 'remove',\n",
       " 'reverse',\n",
       " 'sort']"
      ]
     },
     "execution_count": 3,
     "metadata": {},
     "output_type": "execute_result"
    }
   ],
   "source": [
    "x = list() # making an empty list\n",
    "dir(x) ### pour afficher la documentation"
   ]
  },
  {
   "cell_type": "code",
   "execution_count": 11,
   "metadata": {},
   "outputs": [
    {
     "name": "stdout",
     "output_type": "stream",
     "text": [
      "banana\n",
      "[1, 3, 5, 6]\n"
     ]
    }
   ],
   "source": [
    "'''\n",
    "len ----> give the number of the list\n",
    "\n",
    "'''\n",
    "import  numpy as np\n",
    "\n",
    "fruit = \"banana\"\n",
    "x = fruit[1]\n",
    "print(fruit)\n",
    "\n",
    "a = [1, 6, 5, 3]\n",
    "b = [4, 5, 1]\n",
    "5 in b\n",
    "a.sort()\n",
    "print(a)"
   ]
  },
  {
   "attachments": {},
   "cell_type": "markdown",
   "metadata": {},
   "source": [
    "# Strings and Lists::\n",
    " common way to move from strings to lists is passing by split\n",
    "\n",
    " rtsrip ----> look for the end of thenew line in strings\n",
    "\n"
   ]
  },
  {
   "cell_type": "code",
   "execution_count": 1,
   "metadata": {},
   "outputs": [
    {
     "name": "stdout",
     "output_type": "stream",
     "text": [
      "['manog', 'fruits', 'juice', 'orange', 'potato']\n"
     ]
    },
    {
     "data": {
      "text/plain": [
       "5"
      ]
     },
     "execution_count": 1,
     "metadata": {},
     "output_type": "execute_result"
    }
   ],
   "source": [
    "abc  = 'manog fruits juice orange potato'\n",
    "stug = abc.split()\n",
    "print(stug)\n",
    "len(stug)"
   ]
  },
  {
   "attachments": {},
   "cell_type": "markdown",
   "metadata": {},
   "source": [
    "# Python dictionaries\n",
    "\n",
    "dict = {\"key\": value, \"key\": value, ..........}\n",
    "\n",
    "for changing thing in a dictionary\n",
    "\n",
    "dict.key() or dict.value() to find pr manipulate data inf dicto\n",
    "\n",
    "dict[\"key\"] = new-value\n",
    "\n",
    "\n",
    "using a dictionnary to make an histogram cod 2"
   ]
  },
  {
   "cell_type": "code",
   "execution_count": 5,
   "metadata": {},
   "outputs": [
    {
     "name": "stdout",
     "output_type": "stream",
     "text": [
      "{'money': 2, 'course': 15, 'price': 16}\n"
     ]
    }
   ],
   "source": [
    "'''\n",
    "formating a dictionary\n",
    "'''\n",
    "\n",
    "python = dict()\n",
    "python['money'] = 2 \n",
    "python['course'] = 15\n",
    "python['price'] = 16\n",
    "print(python)"
   ]
  },
  {
   "cell_type": "code",
   "execution_count": 11,
   "metadata": {},
   "outputs": [
    {
     "name": "stdout",
     "output_type": "stream",
     "text": [
      "{'cas': 1, 'mam': 1}\n",
      "{'cas': 2, 'mam': 1}\n",
      "{'manog': 1, 'fruits': 1, 'juice': 1, 'orange': 1, 'potato': 1, 'omo': 1}\n"
     ]
    }
   ],
   "source": [
    "c = dict()\n",
    "c['cas'] = 1\n",
    "c['mam'] = 1\n",
    "print(c)\n",
    "c['cas'] = c['cas'] + 1\n",
    "print(c)\n",
    "\n",
    "'''\n",
    "an histogramm code example\n",
    "\n",
    "using get methode :   dict.get(key, value)\n",
    " \n",
    "'''\n",
    "\n",
    "count = dict()\n",
    "nam = ['manog', 'fruits', 'juice', 'orange', 'potato', 'omo']\n",
    "for name in nam:\n",
    "    if name not in  count:\n",
    "        count[name] = 1\n",
    "    else:\n",
    "        count[name] = count[name] + 1\n",
    "print(count)\n",
    "\n",
    "\n",
    "for n"
   ]
  },
  {
   "cell_type": "code",
   "execution_count": 1,
   "metadata": {},
   "outputs": [
    {
     "data": {
      "text/plain": [
       "['__class__',\n",
       " '__class_getitem__',\n",
       " '__contains__',\n",
       " '__delattr__',\n",
       " '__delitem__',\n",
       " '__dir__',\n",
       " '__doc__',\n",
       " '__eq__',\n",
       " '__format__',\n",
       " '__ge__',\n",
       " '__getattribute__',\n",
       " '__getitem__',\n",
       " '__getstate__',\n",
       " '__gt__',\n",
       " '__hash__',\n",
       " '__init__',\n",
       " '__init_subclass__',\n",
       " '__ior__',\n",
       " '__iter__',\n",
       " '__le__',\n",
       " '__len__',\n",
       " '__lt__',\n",
       " '__ne__',\n",
       " '__new__',\n",
       " '__or__',\n",
       " '__reduce__',\n",
       " '__reduce_ex__',\n",
       " '__repr__',\n",
       " '__reversed__',\n",
       " '__ror__',\n",
       " '__setattr__',\n",
       " '__setitem__',\n",
       " '__sizeof__',\n",
       " '__str__',\n",
       " '__subclasshook__',\n",
       " 'clear',\n",
       " 'copy',\n",
       " 'fromkeys',\n",
       " 'get',\n",
       " 'items',\n",
       " 'keys',\n",
       " 'pop',\n",
       " 'popitem',\n",
       " 'setdefault',\n",
       " 'update',\n",
       " 'values']"
      ]
     },
     "execution_count": 1,
     "metadata": {},
     "output_type": "execute_result"
    }
   ],
   "source": [
    "count = dict()\n",
    "dir(count)"
   ]
  },
  {
   "attachments": {},
   "cell_type": "markdown",
   "metadata": {},
   "source": [
    "# Tuples:\n",
    " looklikes a = (2,3,2......) or ('mango','orange','banana',......)\n",
    "  they are not modifyble "
   ]
  },
  {
   "cell_type": "code",
   "execution_count": 4,
   "metadata": {},
   "outputs": [
    {
     "name": "stdout",
     "output_type": "stream",
     "text": [
      "csav 2\n",
      "cwen 4\n"
     ]
    },
    {
     "data": {
      "text/plain": [
       "[('fruits', 12),\n",
       " ('juice', 15),\n",
       " ('manog', 10),\n",
       " ('omo', 20),\n",
       " ('orange', 8),\n",
       " ('potato', 5)]"
      ]
     },
     "execution_count": 4,
     "metadata": {},
     "output_type": "execute_result"
    }
   ],
   "source": [
    "\n",
    "\n",
    "\n",
    "'''\n",
    "using dict in tuple example\n",
    "\n",
    " sorting a list of tuples\n",
    "'''\n",
    "\n",
    "d = dict()\n",
    "d['csav'] = 2\n",
    "d['cwen'] = 4\n",
    "for (k,v) in d.items():\n",
    "    print(k,v)\n",
    "    \n",
    "    \n",
    "h = {'manog': 10, 'fruits': 12, 'juice': 15, 'orange': 8, 'potato': 5, 'omo': 20}\n",
    "h.items()\n",
    "sorted(h.items())\n",
    "dict_items([('manog',10), ('fruits', 12), ('juice',15), ('orange',8),('potato', 5),('omo', 20)])\n",
    "\n",
    "\n",
    "\n",
    "'''\n",
    "commwnt contracter un code \n",
    "\n",
    "# code 1\n",
    "\n",
    "lst = list()\n",
    "for key, val in count.items():\n",
    "    newtup = (val, key)\n",
    "    lst.append(newtup) \n",
    "lst = sorted(lst, reverse=True)\n",
    "print(lst)\n",
    "\n",
    "# code 2 \n",
    " \n",
    "print( sorted( [ (v,k) for k, v in counts.keys() ] , reverse=True) )\n",
    "\n",
    "\n",
    "'''\n",
    "# code 1\n",
    "h = open('lits.txt')\n",
    "counts = dict()\n",
    "for line in h:\n",
    "    words = line.split()\n",
    "    for word in words:\n",
    "        counts[word] = counts.get(word, 0) + 1\n",
    "\n",
    "lst = list()\n",
    "for key, val in count.items():\n",
    "    newtup = (val, key)\n",
    "    lst.append(newtup) \n",
    "lst = sorted(lst, reverse=True)\n",
    "for val, key in lst[:10]:\n",
    "    print(key,val)       "
   ]
  },
  {
   "attachments": {},
   "cell_type": "markdown",
   "metadata": {},
   "source": [
    "# regular expression:\n",
    " how to import the lab\n",
    "\n",
    " import re\n",
    "![image](1.jpg)\n"
   ]
  },
  {
   "cell_type": "code",
   "execution_count": 1,
   "metadata": {},
   "outputs": [
    {
     "name": "stdout",
     "output_type": "stream",
     "text": [
      "['csev@umich.edu', 'cwen@iupui.edu']\n"
     ]
    }
   ],
   "source": [
    "import re \n",
    "\n",
    "s = 'A message from csev@umich.edu to cwen@iupui.edu about meeting @2PM'\n",
    "lst = re.findall('\\\\S+@\\\\S+', s)\n",
    "print(lst)\n",
    "\n"
   ]
  },
  {
   "attachments": {},
   "cell_type": "markdown",
   "metadata": {},
   "source": [
    "# Network programm\n",
    "\n",
    "the library that gives acces to web is socket\n",
    "\n",
    "Http - hypertext Transfer Protocol \n",
    " the type of http that used for website access is Get: to get a URL content\n",
    "\n",
    " types of unicode or encodin :\n",
    "\n",
    " UTF-16 - fixed length- two bytes\n",
    " UTF-32 Fixed length- Four Bytes\n",
    " Utf-8 1-4 bytes is the recommended practice for encoding data to be exchanged between systems"
   ]
  },
  {
   "cell_type": "code",
   "execution_count": 4,
   "metadata": {},
   "outputs": [
    {
     "name": "stdout",
     "output_type": "stream",
     "text": [
      "HTTP/1.1 200 OK\n",
      "Date: Sun, 29 Jan 2023 18:32:26 GMT\n",
      "Server: Apache/2.4.18 (Ubuntu)\n",
      "Last-Modified: Sat, 13 May 2017 11:22:22 GMT\n",
      "ETag: \"a7-54f6609245537\"\n",
      "Accept-Ranges: bytes\n",
      "Content-Length: 167\n",
      "Cache-Control: max-age=0, no-cache, no-store, must-revalidate\n",
      "Pragma: no-cache\n",
      "Expires: Wed, 11 Jan 1984 05:00:00 GMT\n",
      "Connection: close\n",
      "Content-Type: text/plain\n",
      "\n",
      "But soft what light through yonder window breaks\n",
      "It is the east and Juliet is the sun\n",
      "Arise fair sun and kill the envious moon\n",
      "Who is already sick and pale with grief\n"
     ]
    }
   ],
   "source": [
    "import socket\n",
    "\n",
    "'''\n",
    " a type of python code to find out what going on in a webbroswer0\n",
    "'''\n",
    "\n",
    "mysock = socket.socket(socket.AF_INET, socket.SOCK_STREAM)\n",
    "mysock.connect(('data.pr4e.org', 80))\n",
    "cmd = 'GET http://data.pr4e.org/romeo.txt HTTP/1.0\\r\\n\\r\\n'.encode()\n",
    "mysock.send(cmd)\n",
    "\n",
    "while True:\n",
    "    data = mysock.recv(512)\n",
    "    if len(data) < 1:\n",
    "        break\n",
    "    print(data.decode(), end='')\n",
    "mysock.close()"
   ]
  },
  {
   "cell_type": "code",
   "execution_count": null,
   "metadata": {},
   "outputs": [],
   "source": [
    "'''\n",
    " using urllib in python to writte a url\n",
    "\n",
    "code 1: request url\n",
    "'''\n",
    "import urllib.request\n",
    "\n",
    "fhb = urllib.request.urlopen('')\n",
    "for line in fhb:\n",
    "    print(line.decode().strip())\n",
    "\n",
    "\n",
    "'''\n",
    "read a web page : give just a content of the website\n",
    "'''\n",
    "import urllib.request, urllib.parse, urllib.error\n",
    "\n",
    "fhand = urllib.request.urlopen('')\n",
    "for line in fhand:\n",
    "    print(line.decode().strip())\n",
    "\n",
    "\n",
    "\n",
    "import urllib.request\n",
    "\n",
    "http = urllib.PoolManager()\n",
    "r = http.resquest('GEt', '')\n",
    "r.data\n",
    "\n",
    "\n",
    "\n",
    "'''\n",
    "they key  for parsing html documents or extracting them i html :\n",
    "\n",
    "'''\n",
    "import urllib.request, urllib.parse, urllib.error\n",
    "from bs4 import BeautifulSoup\n",
    "\n"
   ]
  },
  {
   "attachments": {},
   "cell_type": "markdown",
   "metadata": {},
   "source": [
    "# XML code into Python "
   ]
  },
  {
   "cell_type": "code",
   "execution_count": null,
   "metadata": {},
   "outputs": [],
   "source": [
    "'''\n",
    "how to import XMl code inside python\n",
    "'''\n",
    "import xml.etree.ElementTree as ET\n",
    "\n",
    "data = ''' xml code list code'''\n",
    "\n",
    "tree = ET.fromstring(data)\n",
    "print('Name:', tree.find('name').text)\n",
    "print('attr:', tree.find('email').get('hide'))\n",
    "\n",
    "\n",
    "'''\n",
    "code 2 for importing xml code into python\n",
    "\n",
    "'''\n",
    "input = '''xml code tuple code'''\n",
    "\n",
    "stuff = ET.fromstring(input)\n",
    "lst = stuff.findall('users/user')\n",
    "print('User count:',len(lst))\n",
    "for item in lst:\n",
    "    print('Name', item.find('name').text)\n",
    "    print('Id', item.find('id').text)\n",
    "    print('Attribute', item.get(\"x\"))\n"
   ]
  },
  {
   "attachments": {},
   "cell_type": "markdown",
   "metadata": {},
   "source": [
    "# javaScript object in python "
   ]
  },
  {
   "cell_type": "code",
   "execution_count": 2,
   "metadata": {},
   "outputs": [
    {
     "name": "stdout",
     "output_type": "stream",
     "text": [
      "Mrugesh\n"
     ]
    },
    {
     "data": {
      "text/plain": [
       "'\\nprint(\\'Name:\\', info[\"name\"])\\nprint(\\'Hide:\\', info[\"email\"][\"hide\"])\\n'"
      ]
     },
     "execution_count": 2,
     "metadata": {},
     "output_type": "execute_result"
    }
   ],
   "source": [
    "import json\n",
    "data = '''\n",
    "  [\n",
    "    { \"id\" : \"001\",\n",
    "      \"x\" : \"2\",\n",
    "     \"name\" : \"Quincy\"\n",
    "    } ,\n",
    "    { \"id\" : \"009\",\n",
    "      \"x\" : \"7\",\n",
    "      \"name\" : \"Mrugesh\"\n",
    "    }\n",
    "  ]\n",
    "'''\n",
    "info = json.loads(data)\n",
    "print(info[1]['name'])\n",
    "\n",
    "'''\n",
    "print('Name:', info[\"name\"])\n",
    "print('Hide:', info[\"email\"][\"hide\"])\n",
    "'''"
   ]
  },
  {
   "attachments": {},
   "cell_type": "markdown",
   "metadata": {},
   "source": [
    "# API (application Programm Interface)\n",
    "\n",
    "program that can help us read info of web services url "
   ]
  },
  {
   "cell_type": "code",
   "execution_count": null,
   "metadata": {},
   "outputs": [],
   "source": [
    "'''\n",
    "python code for reading API\n",
    "'''\n",
    "\n",
    "import urllib.request, urllib.parse, urllib.error\n",
    "import json\n",
    "\n",
    "serviceurl =  ' tape your url'\n",
    "\n",
    "while True:\n",
    "    address = input('Enter location: ')\n",
    "    if len(address) < 1: break\n",
    "    \n",
    "    url = serviceurl + urllib.parse.urlencode({'adres': address})\n",
    "    \n",
    "    print('retriving', url)\n",
    "    uh = urllib.request.urlopen(url)\n",
    "    data = uh.read().decode()\n",
    "    print('Retrieved', len(data), 'characters')\n",
    "    \n",
    "    try:\n",
    "        js = json.loads(data)\n",
    "    except:\n",
    "        js = None\n",
    "    if not js or 'status' not in js or js['status'] != 'ok':\n",
    "        print('**** Failure To Retrieve ****')\n",
    "        print(data)\n",
    "        continue\n",
    "\n",
    "lst = js[\"results\"][0][\"geometry\"][\"location\"][\"lst\"]\n",
    "lng = js[\"results\"][0][\"geometry\"][\"location\"][\"lng\"]\n",
    "print('lst', lst, 'lng', lng)\n",
    "location = js[\"results\"][0][\"formatted_address\"]\n",
    "print(location)"
   ]
  },
  {
   "attachments": {},
   "cell_type": "markdown",
   "metadata": {},
   "source": [
    "# Object ;\n",
    "\n",
    "a bit self-contained code and data\n",
    "\n",
    "\n",
    "# object lifecyle\n",
    "craeted and discarded\n",
    " code 2"
   ]
  },
  {
   "cell_type": "code",
   "execution_count": 4,
   "metadata": {},
   "outputs": [
    {
     "name": "stdout",
     "output_type": "stream",
     "text": [
      "2\n",
      "4\n"
     ]
    }
   ],
   "source": [
    "class PartyAnimal:\n",
    "    x = 0\n",
    "    def party(self):\n",
    "        self.x = self.x + 2\n",
    "        print(self.x)\n",
    "\n",
    "an = PartyAnimal()\n",
    "an.party()\n",
    "an.party()\n",
    "\n",
    "'''\n",
    "code 2 object lifeycle :: with the construtor \n",
    "    def __init__(self, nam):\n",
    "        self.name = nam\n",
    "        print(self.name,'constructed')\n",
    "'''\n",
    "class PartyAnimal:\n",
    "    x = 0\n",
    "    name = ''\n",
    "    def __init__(self, nam):\n",
    "        self.name = nam\n",
    "        print(self.name,'constructed')\n",
    "    def party(self):\n",
    "        self.x = self.x + 1\n",
    "        print(self.name,'party count',self.x)\n",
    "\n",
    "q = PartyAnimal('Quincy')\n",
    "m = PartyAnimal('Miya')\n",
    "\n",
    "q.party()\n",
    "m.party()\n",
    "q.party()"
   ]
  },
  {
   "cell_type": "markdown",
   "metadata": {},
   "source": []
  }
 ],
 "metadata": {
  "kernelspec": {
   "display_name": "Python 3",
   "language": "python",
   "name": "python3"
  },
  "language_info": {
   "codemirror_mode": {
    "name": "ipython",
    "version": 3
   },
   "file_extension": ".py",
   "mimetype": "text/x-python",
   "name": "python",
   "nbconvert_exporter": "python",
   "pygments_lexer": "ipython3",
   "version": "3.11.0 (main, Oct 24 2022, 18:26:48) [MSC v.1933 64 bit (AMD64)]"
  },
  "orig_nbformat": 4,
  "vscode": {
   "interpreter": {
    "hash": "c261aea317cc0286b3b3261fbba9abdec21eaa57589985bb7a274bf54d6cc0a7"
   }
  }
 },
 "nbformat": 4,
 "nbformat_minor": 2
}
